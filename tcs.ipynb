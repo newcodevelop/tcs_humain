{
  "nbformat": 4,
  "nbformat_minor": 0,
  "metadata": {
    "colab": {
      "name": "tcs.ipynb",
      "version": "0.3.2",
      "provenance": [],
      "collapsed_sections": []
    },
    "kernelspec": {
      "name": "python3",
      "display_name": "Python 3"
    },
    "accelerator": "GPU"
  },
  "cells": [
    {
      "cell_type": "code",
      "metadata": {
        "id": "SrZdvf5EcYET",
        "colab_type": "code",
        "outputId": "7c9135a1-e48f-4934-a247-b583908f7a8e",
        "colab": {
          "base_uri": "https://localhost:8080/",
          "height": 34
        }
      },
      "source": [
        "from google.colab import drive\n",
        "drive.mount('/content/drive')"
      ],
      "execution_count": 4,
      "outputs": [
        {
          "output_type": "stream",
          "text": [
            "Drive already mounted at /content/drive; to attempt to forcibly remount, call drive.mount(\"/content/drive\", force_remount=True).\n"
          ],
          "name": "stdout"
        }
      ]
    },
    {
      "cell_type": "code",
      "metadata": {
        "id": "e_2zH0_DgOUH",
        "colab_type": "code",
        "colab": {}
      },
      "source": [
        "#DATA GATHERING\n",
        "import json\n",
        "l = []\n",
        "with open('/content/drive/My Drive/TCS/Face_Recognition.json','r') as r:\n",
        "    for line in r:\n",
        "        l.append(json.loads(line))\n"
      ],
      "execution_count": 0,
      "outputs": []
    },
    {
      "cell_type": "markdown",
      "metadata": {
        "id": "HQmzJS6tEE-E",
        "colab_type": "text"
      },
      "source": [
        "After getting the dataset we have to extract all the images from it from the given link. The code below does exactly that."
      ]
    },
    {
      "cell_type": "code",
      "metadata": {
        "id": "ylLfjT-VdFLq",
        "colab_type": "code",
        "colab": {}
      },
      "source": [
        "import PIL\n",
        "import matplotlib\n",
        "import io\n",
        "import requests\n",
        "import numpy as np\n",
        "\n",
        "from matplotlib import pyplot as plt"
      ],
      "execution_count": 0,
      "outputs": []
    },
    {
      "cell_type": "markdown",
      "metadata": {
        "id": "xP-Cf-xpESwM",
        "colab_type": "text"
      },
      "source": [
        "Imports are finished"
      ]
    },
    {
      "cell_type": "code",
      "metadata": {
        "id": "YmaeSxfGdFQy",
        "colab_type": "code",
        "colab": {}
      },
      "source": [
        "def extractimage(data):\n",
        "    url = data['content']\n",
        "\n",
        "    r = requests.get(url)\n",
        "    #try:\n",
        "    pictures = PIL.Image.open(io.BytesIO(r.content))\n",
        "    #except:\n",
        "    #print(r.content)\n",
        "    pic_array = []\n",
        "    final_pic = []\n",
        "    final_label = []\n",
        "    for i in data['annotation']:\n",
        "        \n",
        "        arr = []\n",
        "        for x,y in zip(i['points'][0].values(),i['points'][1].values()):\n",
        "            \n",
        "            arr.append(np.array([x,y]))\n",
        "        \n",
        "        arr[0] *= i['imageWidth']\n",
        "        arr[1] *= i['imageHeight']\n",
        "        \n",
        "        final_pic.append(pictures.crop((arr[0][0],arr[1][0],arr[0][1],arr[1][1])))\n",
        "        final_label.append(i['label'])\n",
        "        pic_array.append(pictures.crop((arr[0][0],arr[1][0],arr[0][1],arr[1][1])))\n",
        "    return final_pic,final_label"
      ],
      "execution_count": 0,
      "outputs": []
    },
    {
      "cell_type": "markdown",
      "metadata": {
        "id": "-uEMNkLUEZ8n",
        "colab_type": "text"
      },
      "source": [
        "The above method fetches all the images from the links in the dataset and appends the images cropped from the mother image into '**final_pic**' array.\n",
        "\n",
        "Subsequently the labels are also added to the '**final_label**' array"
      ]
    },
    {
      "cell_type": "code",
      "metadata": {
        "id": "TAM4EOzMdFTt",
        "colab_type": "code",
        "outputId": "6bba81cd-de4b-42f4-f00a-81c253207795",
        "colab": {
          "base_uri": "https://localhost:8080/",
          "height": 1000
        }
      },
      "source": [
        "all_pic,all_label = [],[]\n",
        "cnt = 0\n",
        "for data in l:\n",
        "    try:\n",
        "        p,q = extractimage(data)\n",
        "        all_pic.append(p)\n",
        "        all_label.append(q)\n",
        "        print('Processed {}'.format(cnt))\n",
        "    except:\n",
        "        print('Failed {}'.format(cnt))\n",
        "    \n",
        "    finally:\n",
        "        cnt+=1"
      ],
      "execution_count": 8,
      "outputs": [
        {
          "output_type": "stream",
          "text": [
            "Processed 0\n",
            "Processed 1\n",
            "Processed 2\n",
            "Processed 3\n",
            "Processed 4\n",
            "Processed 5\n",
            "Processed 6\n",
            "Processed 7\n",
            "Processed 8\n",
            "Processed 9\n",
            "Processed 10\n",
            "Processed 11\n",
            "Processed 12\n",
            "Processed 13\n",
            "Processed 14\n",
            "Processed 15\n",
            "Processed 16\n",
            "Processed 17\n",
            "Processed 18\n",
            "Processed 19\n",
            "Processed 20\n",
            "Processed 21\n",
            "Processed 22\n",
            "Processed 23\n",
            "Processed 24\n",
            "Processed 25\n",
            "Processed 26\n",
            "Processed 27\n",
            "Processed 28\n",
            "Processed 29\n",
            "Processed 30\n",
            "Processed 31\n",
            "Processed 32\n",
            "Processed 33\n",
            "Processed 34\n",
            "Processed 35\n",
            "Processed 36\n",
            "Processed 37\n",
            "Processed 38\n",
            "Processed 39\n",
            "Processed 40\n",
            "Processed 41\n",
            "Processed 42\n",
            "Processed 43\n",
            "Processed 44\n",
            "Processed 45\n",
            "Processed 46\n",
            "Processed 47\n",
            "Processed 48\n",
            "Processed 49\n",
            "Processed 50\n",
            "Processed 51\n",
            "Processed 52\n",
            "Processed 53\n",
            "Processed 54\n",
            "Processed 55\n",
            "Processed 56\n",
            "Processed 57\n",
            "Processed 58\n",
            "Processed 59\n",
            "Processed 60\n",
            "Processed 61\n",
            "Processed 62\n",
            "Processed 63\n",
            "Processed 64\n",
            "Processed 65\n",
            "Processed 66\n",
            "Processed 67\n",
            "Processed 68\n",
            "Processed 69\n",
            "Processed 70\n",
            "Processed 71\n",
            "Processed 72\n",
            "Processed 73\n",
            "Processed 74\n",
            "Processed 75\n",
            "Processed 76\n",
            "Processed 77\n",
            "Processed 78\n",
            "Processed 79\n",
            "Processed 80\n",
            "Processed 81\n",
            "Processed 82\n",
            "Processed 83\n",
            "Processed 84\n",
            "Processed 85\n",
            "Processed 86\n",
            "Processed 87\n",
            "Processed 88\n",
            "Processed 89\n",
            "Processed 90\n",
            "Processed 91\n",
            "Processed 92\n",
            "Processed 93\n",
            "Processed 94\n",
            "Processed 95\n",
            "Processed 96\n",
            "Processed 97\n",
            "Processed 98\n",
            "Processed 99\n",
            "Processed 100\n",
            "Processed 101\n",
            "Processed 102\n",
            "Processed 103\n",
            "Processed 104\n",
            "Processed 105\n",
            "Processed 106\n",
            "Processed 107\n",
            "Processed 108\n",
            "Processed 109\n",
            "Processed 110\n",
            "Processed 111\n",
            "Processed 112\n",
            "Processed 113\n",
            "Processed 114\n",
            "Processed 115\n",
            "Processed 116\n",
            "Processed 117\n",
            "Processed 118\n",
            "Processed 119\n"
          ],
          "name": "stdout"
        }
      ]
    },
    {
      "cell_type": "markdown",
      "metadata": {
        "id": "ARNnkHIMFBfe",
        "colab_type": "text"
      },
      "source": [
        "The pictures are processed by using of the previous method"
      ]
    },
    {
      "cell_type": "code",
      "metadata": {
        "id": "TTGBrvffhWzJ",
        "colab_type": "code",
        "outputId": "3bd269d4-adaf-44b1-e0e7-8219bd65271d",
        "colab": {
          "base_uri": "https://localhost:8080/",
          "height": 73
        }
      },
      "source": [
        "all_pic[78][0]\n",
        "# an instance of cropped image"
      ],
      "execution_count": 9,
      "outputs": [
        {
          "output_type": "execute_result",
          "data": {
            "image/png": "[encoded data removed]",
            "text/plain": [
              "<PIL.Image.Image image mode=RGB size=48x56 at 0x7F7018A44C18>"
            ]
          },
          "metadata": {
            "tags": []
          },
          "execution_count": 9
        }
      ]
    },
    {
      "cell_type": "code",
      "metadata": {
        "id": "OgIsTjNuhiVr",
        "colab_type": "code",
        "outputId": "61a45b7a-9ec2-49d2-d9c0-c23e6e891079",
        "colab": {
          "base_uri": "https://localhost:8080/",
          "height": 34
        }
      },
      "source": [
        "all_label[78][0]\n",
        "# the label of the image"
      ],
      "execution_count": 10,
      "outputs": [
        {
          "output_type": "execute_result",
          "data": {
            "text/plain": [
              "['Emotion_Neutral', 'Age_30_40', 'E_White', 'G_Male']"
            ]
          },
          "metadata": {
            "tags": []
          },
          "execution_count": 10
        }
      ]
    },
    {
      "cell_type": "code",
      "metadata": {
        "id": "_ns3JL8PdFYR",
        "colab_type": "code",
        "outputId": "670e2397-312b-4b19-e1cb-f0912a497e72",
        "colab": {
          "base_uri": "https://localhost:8080/",
          "height": 1000
        }
      },
      "source": [
        "p,l = [],[]\n",
        "\n",
        "\n",
        "# In[85]:\n",
        "\n",
        "\n",
        "for i,j in zip(all_pic,all_label):\n",
        "    \n",
        "    #print(i,j)\n",
        "    for x,y in zip(i,j):\n",
        "        print(x,y)\n",
        "        try:\n",
        "            if y[0]!='Not_Face':\n",
        "                p.append(x)\n",
        "                l.append(y)\n",
        "        except:\n",
        "            print('No label')\n",
        "            pass"
      ],
      "execution_count": 11,
      "outputs": [
        {
          "output_type": "stream",
          "text": [
            "<PIL.Image.Image image mode=RGB size=164x169 at 0x7F70193F3E80> ['Emotion_Happy', 'Age_below20', 'E_White', 'G_Male']\n",
            "<PIL.Image.Image image mode=RGB size=174x154 at 0x7F7019380F28> ['Emotion_Happy', 'Age_20_30', 'E_White', 'G_ Female']\n",
            "<PIL.Image.Image image mode=RGB size=79x77 at 0x7F7019CF40F0> ['Emotion_Happy', 'Age_20_30', 'E_Hispanic', 'G_ Female']\n",
            "<PIL.Image.Image image mode=RGB size=73x83 at 0x7F7019380B38> ['Emotion_Happy', 'Age_20_30', 'E_White', 'G_ Female']\n",
            "<PIL.Image.Image image mode=RGB size=75x71 at 0x7F701981A898> ['Emotion_Happy', 'Age_20_30', 'E_White', 'G_ Female']\n",
            "<PIL.Image.Image image mode=RGB size=17x19 at 0x7F7019CF4B00> ['Emotion_Neutral', 'Age_20_30', 'E_Asian', 'G_ Female']\n",
            "<PIL.Image.Image image mode=RGB size=15x15 at 0x7F7019CF4160> ['Emotion_Neutral', 'Age_below20', 'E_White', 'G_ Female']\n",
            "<PIL.Image.Image image mode=RGB size=10x13 at 0x7F701981ABA8> ['Emotion_Neutral', 'Age_20_30', 'E_White', 'G_ Female']\n",
            "<PIL.Image.Image image mode=RGB size=12x18 at 0x7F70193935F8> ['Emotion_Neutral', 'Age_20_30', 'E_Asian', 'G_ Female']\n",
            "<PIL.Image.Image image mode=RGB size=24x21 at 0x7F702F737518> ['Not_Face']\n",
            "<PIL.Image.Image image mode=RGB size=11x10 at 0x7F701981A8D0> ['Not_Face']\n",
            "<PIL.Image.Image image mode=RGB size=8x6 at 0x7F7019393550> ['Not_Face']\n",
            "<PIL.Image.Image image mode=RGB size=7x7 at 0x7F7019393198> ['Not_Face']\n",
            "<PIL.Image.Image image mode=RGB size=7x5 at 0x7F7019393940> ['Not_Face']\n",
            "<PIL.Image.Image image mode=RGB size=34x26 at 0x7F7019393A20> ['Emotion_Neutral', 'Age_above_50', 'E_White', 'G_ Female']\n",
            "<PIL.Image.Image image mode=RGB size=20x17 at 0x7F7019393B00> ['Emotion_Neutral', 'Age_30_40', 'E_White', 'G_Male']\n",
            "<PIL.Image.Image image mode=RGB size=36x35 at 0x7F7019393BE0> ['Emotion_Neutral', 'Age_above_50', 'E_White', 'G_Male']\n",
            "<PIL.Image.Image image mode=RGB size=14x15 at 0x7F7019393CC0> ['Emotion_Neutral', 'Age_30_40', 'E_White', 'G_Male']\n",
            "<PIL.Image.Image image mode=RGB size=57x88 at 0x7F701981A9E8> ['Emotion_Neutral', 'Age_30_40', 'E_Black', 'G_Male']\n",
            "<PIL.Image.Image image mode=RGB size=84x90 at 0x7F7029A6C6D8> ['Emotion_Neutral', 'Age_30_40', 'E_White', 'G_Male']\n",
            "<PIL.Image.Image image mode=RGB size=66x91 at 0x7F701981AA20> ['Emotion_Happy', 'Age_20_30', 'G_ Female', 'E_White']\n",
            "<PIL.Image.Image image mode=RGB size=224x279 at 0x7F7019380FD0> ['Emotion_Happy', 'Age_30_40', 'E_Black', 'G_Male']\n",
            "<PIL.Image.Image image mode=P size=20x19 at 0x7F7019380F60> ['Emotion_Neutral', 'Age_20_30', 'E_White', 'G_ Female']\n",
            "<PIL.Image.Image image mode=P size=14x21 at 0x7F7019393DD8> ['Not_Face']\n",
            "<PIL.Image.Image image mode=P size=12x13 at 0x7F7019393828> ['Not_Face']\n",
            "<PIL.Image.Image image mode=RGB size=13x14 at 0x7F7019CF4898> ['Emotion_Neutral', 'Age_20_30', 'E_Asian', 'G_Male']\n",
            "<PIL.Image.Image image mode=RGB size=9x8 at 0x7F701930BFD0> ['Emotion_Neutral', 'Age_20_30', 'E_White', 'G_ Female']\n",
            "<PIL.Image.Image image mode=RGB size=16x23 at 0x7F70193160F0> ['Emotion_Neutral', 'Age_30_40', 'E_White', 'G_Male']\n",
            "<PIL.Image.Image image mode=RGB size=42x43 at 0x7F701939D128> ['Not_Face']\n",
            "<PIL.Image.Image image mode=RGB size=61x85 at 0x7F70193930B8> ['Emotion_Neutral', 'Age_above_50', 'E_White', 'G_Male']\n",
            "<PIL.Image.Image image mode=RGB size=89x71 at 0x7F7019393F98> ['Not_Face']\n",
            "<PIL.Image.Image image mode=RGB size=90x127 at 0x7F7019316E48> ['Not_Face', 'Age_above_50', 'E_White', 'G_Male']\n",
            "<PIL.Image.Image image mode=RGB size=110x142 at 0x7F7019316390> ['Not_Face']\n",
            "<PIL.Image.Image image mode=RGB size=111x133 at 0x7F701930B6D8> ['Emotion_Happy', 'Age_20_30', 'E_White', 'G_ Female']\n",
            "<PIL.Image.Image image mode=RGB size=36x26 at 0x7F7019320978> ['Not_Face']\n",
            "<PIL.Image.Image image mode=RGB size=23x17 at 0x7F70193216D8> ['Not_Face']\n",
            "<PIL.Image.Image image mode=RGB size=14x13 at 0x7F70193217B8> ['Not_Face']\n",
            "<PIL.Image.Image image mode=RGB size=14x13 at 0x7F7019321898> ['Not_Face']\n",
            "<PIL.Image.Image image mode=RGB size=21x30 at 0x7F7019321978> ['Emotion_Sad', 'Age_30_40', 'E_White', 'G_Male']\n",
            "<PIL.Image.Image image mode=RGB size=29x26 at 0x7F7019321A58> ['Not_Face']\n",
            "<PIL.Image.Image image mode=RGB size=45x46 at 0x7F70193162B0> ['Not_Face']\n",
            "<PIL.Image.Image image mode=RGB size=29x31 at 0x7F70193162E8> ['Not_Face']\n",
            "<PIL.Image.Image image mode=RGB size=26x20 at 0x7F7019320FD0> ['Not_Face']\n",
            "<PIL.Image.Image image mode=RGB size=34x21 at 0x7F7019316358> ['Not_Face']\n",
            "<PIL.Image.Image image mode=RGB size=28x24 at 0x7F7019321B38> ['Not_Face']\n",
            "<PIL.Image.Image image mode=RGB size=30x19 at 0x7F7019321080> ['Not_Face']\n",
            "<PIL.Image.Image image mode=RGB size=25x15 at 0x7F7019321DD8> ['Not_Face']\n",
            "<PIL.Image.Image image mode=RGB size=203x199 at 0x7F701939D0B8> ['Not_Face']\n",
            "<PIL.Image.Image image mode=RGB size=223x213 at 0x7F7019393D30> ['Emotion_Neutral', 'Age_40_50', 'E_White', 'G_ Female']\n",
            "<PIL.Image.Image image mode=RGB size=94x98 at 0x7F701981AAC8> ['Emotion_Neutral', 'Age_20_30', 'E_White', 'G_ Female']\n",
            "<PIL.Image.Image image mode=RGB size=260x210 at 0x7F7019321BE0> ['Not_Face']\n",
            "<PIL.Image.Image image mode=RGB size=196x206 at 0x7F7019321CF8> ['Not_Face']\n",
            "<PIL.Image.Image image mode=RGB size=175x192 at 0x7F70193230B8> ['Not_Face']\n",
            "<PIL.Image.Image image mode=RGB size=125x207 at 0x7F7019323198> ['Not_Face']\n",
            "<PIL.Image.Image image mode=RGB size=108x84 at 0x7F7019323278> ['Not_Face']\n",
            "<PIL.Image.Image image mode=RGB size=26x55 at 0x7F7019316128> ['Not_Face']\n",
            "<PIL.Image.Image image mode=P size=158x164 at 0x7F7019393588> ['Emotion_Neutral', 'Age_30_40', 'G_Male', 'E_Black']\n",
            "<PIL.Image.Image image mode=RGB size=45x48 at 0x7F70193166D8> ['Emotion_Happy', 'Age_30_40', 'E_Asian', 'G_Male']\n",
            "<PIL.Image.Image image mode=RGB size=108x112 at 0x7F7019321E48> ['Emotion_Happy', 'Age_above_50', 'G_Male', 'E_White']\n",
            "<PIL.Image.Image image mode=RGB size=22x25 at 0x7F7019316550> ['Emotion_Neutral', 'Age_below20', 'E_White', 'G_ Female']\n",
            "<PIL.Image.Image image mode=RGB size=11x11 at 0x7F7019321748> ['Not_Face']\n",
            "<PIL.Image.Image image mode=RGB size=10x11 at 0x7F7019321F60> ['Not_Face']\n",
            "<PIL.Image.Image image mode=RGB size=14x14 at 0x7F70193234A8> ['Not_Face']\n",
            "<PIL.Image.Image image mode=RGB size=11x13 at 0x7F7019323748> ['Emotion_Neutral', 'Age_20_30', 'E_White', 'G_ Female']\n",
            "<PIL.Image.Image image mode=RGB size=13x13 at 0x7F7019323828> ['Not_Face']\n",
            "<PIL.Image.Image image mode=RGB size=15x14 at 0x7F7019323908> ['Not_Face']\n",
            "<PIL.Image.Image image mode=RGB size=9x10 at 0x7F70193239E8> ['Not_Face']\n",
            "<PIL.Image.Image image mode=RGB size=22x20 at 0x7F7019323AC8> ['Not_Face']\n",
            "<PIL.Image.Image image mode=RGB size=21x19 at 0x7F7019323BA8> ['Not_Face']\n",
            "<PIL.Image.Image image mode=RGB size=29x25 at 0x7F7019323C88> ['Not_Face']\n",
            "<PIL.Image.Image image mode=RGB size=14x14 at 0x7F7019323D68> ['Not_Face']\n",
            "<PIL.Image.Image image mode=RGB size=18x16 at 0x7F7019323E48> ['Emotion_Happy', 'Age_20_30', 'E_White', 'G_ Female']\n",
            "<PIL.Image.Image image mode=RGB size=24x34 at 0x7F7019323F28> ['Emotion_Angry', 'Age_20_30', 'G_ Female', 'E_White']\n",
            "<PIL.Image.Image image mode=RGB size=29x36 at 0x7F7019323FD0> ['Emotion_Neutral', 'Age_20_30', 'E_White', 'G_Male']\n",
            "<PIL.Image.Image image mode=RGB size=17x18 at 0x7F701932B128> ['Emotion_Neutral', 'Age_20_30', 'E_White', 'G_ Female']\n",
            "<PIL.Image.Image image mode=RGB size=17x22 at 0x7F701932B208> ['Emotion_Neutral', 'Age_20_30', 'E_White', 'G_ Female']\n",
            "<PIL.Image.Image image mode=RGB size=9x12 at 0x7F701932B2E8> ['Emotion_Neutral', 'Age_30_40', 'E_White', 'G_Male']\n",
            "<PIL.Image.Image image mode=RGB size=18x21 at 0x7F701932B3C8> ['Emotion_Neutral', 'Age_below20', 'G_Male', 'E_White']\n",
            "<PIL.Image.Image image mode=RGB size=14x14 at 0x7F701932B4A8> ['Emotion_Angry', 'Age_30_40', 'E_Hispanic', 'G_Male']\n",
            "<PIL.Image.Image image mode=RGB size=12x14 at 0x7F701932B588> ['Not_Face']\n",
            "<PIL.Image.Image image mode=RGB size=12x18 at 0x7F701932B668> ['Not_Face']\n",
            "<PIL.Image.Image image mode=RGB size=10x11 at 0x7F701932B748> ['Emotion_Neutral', 'Age_40_50', 'E_White', 'G_Male']\n",
            "<PIL.Image.Image image mode=RGB size=40x35 at 0x7F70309DAC50> ['Not_Face']\n",
            "<PIL.Image.Image image mode=RGB size=24x27 at 0x7F7019321710> ['Not_Face']\n",
            "<PIL.Image.Image image mode=RGB size=25x35 at 0x7F7019321828> ['Not_Face']\n",
            "<PIL.Image.Image image mode=RGB size=131x170 at 0x7F7019321D30> ['Emotion_Happy', 'Age_30_40', 'E_Black', 'G_Male']\n",
            "<PIL.Image.Image image mode=RGB size=96x118 at 0x7F7019321908> ['Emotion_Neutral', 'Age_20_30', 'E_White', 'G_Male']\n",
            "<PIL.Image.Image image mode=RGB size=78x82 at 0x7F7019321B00> ['Emotion_Neutral', 'Age_30_40', 'E_White', 'G_Male']\n",
            "<PIL.Image.Image image mode=RGB size=130x174 at 0x7F7019321A90> ['Emotion_Happy', 'Age_below20', 'E_White', 'G_Male']\n",
            "<PIL.Image.Image image mode=RGB size=166x189 at 0x7F701981A550> ['Emotion_Happy', 'Age_below20', 'E_White', 'G_ Female']\n",
            "<PIL.Image.Image image mode=RGB size=51x57 at 0x7F70193165C0> ['Emotion_Neutral', 'Age_30_40', 'E_White', 'G_Male']\n",
            "<PIL.Image.Image image mode=RGB size=59x70 at 0x7F70193232E8> ['Emotion_Neutral', 'Age_20_30', 'E_Asian', 'G_Male']\n",
            "<PIL.Image.Image image mode=RGB size=67x66 at 0x7F70193230F0> ['Emotion_Happy', 'Age_30_40', 'E_White', 'G_Male']\n",
            "<PIL.Image.Image image mode=RGB size=40x33 at 0x7F7019323518> ['Emotion_Happy', 'Age_20_30', 'E_White', 'G_ Female']\n",
            "<PIL.Image.Image image mode=RGB size=36x39 at 0x7F7019323438> ['Emotion_Happy', 'Age_below20', 'E_White', 'G_ Female']\n",
            "<PIL.Image.Image image mode=RGB size=148x187 at 0x7F7019323C18> ['Emotion_Happy', 'Age_40_50', 'E_White', 'G_ Female']\n",
            "<PIL.Image.Image image mode=RGB size=0x0 at 0x7F7019323400> []\n",
            "No label\n",
            "<PIL.Image.Image image mode=RGB size=125x140 at 0x7F7019320208> ['Emotion_Neutral', 'Age_20_30', 'E_Asian', 'G_ Female']\n",
            "<PIL.Image.Image image mode=RGB size=136x118 at 0x7F70193236D8> ['Emotion_Neutral', 'Age_30_40', 'E_Arab', 'G_ Female']\n",
            "<PIL.Image.Image image mode=RGB size=26x32 at 0x7F7019393208> ['Not_Face']\n",
            "<PIL.Image.Image image mode=RGB size=31x35 at 0x7F7019323320> ['Not_Face']\n",
            "<PIL.Image.Image image mode=RGB size=208x253 at 0x7F7019393D68> ['Emotion_Happy']\n",
            "<PIL.Image.Image image mode=RGB size=71x84 at 0x7F70193210B8> ['Emotion_Happy', 'Age_above_50', 'E_White', 'G_ Female']\n",
            "<PIL.Image.Image image mode=RGB size=112x110 at 0x7F7019323470> ['Not_Face']\n",
            "<PIL.Image.Image image mode=RGB size=310x407 at 0x7F70193933C8> ['Emotion_Happy', 'Age_20_30', 'E_White', 'G_ Female']\n",
            "<PIL.Image.Image image mode=RGB size=20x20 at 0x7F7019321668> ['Emotion_Happy', 'Age_30_40', 'E_White', 'G_Male']\n",
            "<PIL.Image.Image image mode=RGB size=24x30 at 0x7F701932B358> ['Not_Face']\n",
            "<PIL.Image.Image image mode=RGB size=29x34 at 0x7F7019323358> ['Emotion_Happy', 'Age_40_50', 'E_White', 'G_Male']\n",
            "<PIL.Image.Image image mode=RGB size=20x19 at 0x7F70193236A0> ['Emotion_Happy', 'Age_below20', 'E_White', 'G_ Female']\n",
            "<PIL.Image.Image image mode=RGB size=63x60 at 0x7F70193302E8> ['Emotion_Happy', 'Age_30_40', 'E_White', 'G_ Female']\n",
            "<PIL.Image.Image image mode=RGB size=31x42 at 0x7F7019323390> ['Emotion_Neutral', 'Age_30_40', 'E_White', 'G_ Female']\n",
            "<PIL.Image.Image image mode=RGB size=48x41 at 0x7F7019321C88> ['Emotion_Neutral', 'Age_20_30', 'E_Black', 'G_ Female']\n",
            "<PIL.Image.Image image mode=RGB size=34x42 at 0x7F701932B438> ['Emotion_Angry', 'Age_20_30', 'E_White', 'G_Male']\n",
            "<PIL.Image.Image image mode=RGB size=49x47 at 0x7F70193237B8> ['Emotion_Neutral']\n",
            "<PIL.Image.Image image mode=RGB size=28x28 at 0x7F7019321208> ['Emotion_Neutral', 'Age_30_40', 'E_White', 'G_Male']\n",
            "<PIL.Image.Image image mode=RGB size=16x17 at 0x7F7019330E48> ['Emotion_Neutral', 'Age_20_30', 'E_White', 'G_ Female']\n",
            "<PIL.Image.Image image mode=RGB size=27x26 at 0x7F701932B898> ['Emotion_Happy', 'Age_20_30', 'E_White', 'G_ Female']\n",
            "<PIL.Image.Image image mode=RGB size=99x133 at 0x7F7019393C50> ['Emotion_Angry', 'Age_30_40', 'E_White', 'G_Male']\n",
            "<PIL.Image.Image image mode=RGB size=305x298 at 0x7F701932B6D8> ['Not_Face']\n",
            "<PIL.Image.Image image mode=RGB size=44x63 at 0x7F701932B240> ['Emotion_Neutral', 'Age_30_40', 'E_Indian', 'G_ Female']\n",
            "<PIL.Image.Image image mode=RGB size=331x270 at 0x7F7019323550> ['Not_Face']\n",
            "<PIL.Image.Image image mode=RGB size=213x118 at 0x7F701932B6A0> ['Not_Face']\n",
            "<PIL.Image.Image image mode=RGB size=65x74 at 0x7F7019323780> ['Emotion_Neutral', 'Age_20_30', 'E_White', 'G_ Female']\n",
            "<PIL.Image.Image image mode=RGB size=142x186 at 0x7F7019330EB8> ['Emotion_Happy', 'Age_30_40', 'E_White', 'G_ Female']\n",
            "<PIL.Image.Image image mode=RGB size=29x28 at 0x7F7019323860> ['Emotion_Neutral', 'Age_30_40', 'E_Indian', 'G_Male']\n",
            "<PIL.Image.Image image mode=RGB size=15x16 at 0x7F701932B048> ['Emotion_Neutral', 'Age_20_30', 'E_Indian', 'G_Male']\n",
            "<PIL.Image.Image image mode=RGB size=18x19 at 0x7F7019332F98> ['Emotion_Neutral', 'Age_20_30', 'E_Indian', 'G_ Female']\n",
            "<PIL.Image.Image image mode=RGB size=21x18 at 0x7F70193329B0> ['Not_Face']\n",
            "<PIL.Image.Image image mode=RGB size=23x28 at 0x7F701932B0B8> ['Not_Face']\n",
            "<PIL.Image.Image image mode=RGB size=42x42 at 0x7F7019323B38> ['Not_Face']\n",
            "<PIL.Image.Image image mode=RGB size=13x21 at 0x7F70193304E0> ['Not_Face']\n",
            "<PIL.Image.Image image mode=RGB size=36x24 at 0x7F7019332908> ['Not_Face']\n",
            "<PIL.Image.Image image mode=RGB size=36x33 at 0x7F7019332748> ['Not_Face']\n",
            "<PIL.Image.Image image mode=RGB size=34x51 at 0x7F7019332A90> ['Not_Face']\n",
            "<PIL.Image.Image image mode=RGBA size=68x87 at 0x7F701932B198> ['Emotion_Happy', 'Age_20_30', 'E_Indian', 'G_ Female']\n",
            "<PIL.Image.Image image mode=RGB size=74x70 at 0x7F7019316320> ['Emotion_Happy', 'Age_20_30', 'E_White', 'G_ Female']\n",
            "<PIL.Image.Image image mode=RGB size=28x31 at 0x7F7019335940> ['Emotion_Sad', 'Age_20_30', 'E_Black', 'G_Male']\n",
            "<PIL.Image.Image image mode=RGB size=28x32 at 0x7F7019321E10> ['Not_Face']\n",
            "<PIL.Image.Image image mode=RGB size=23x25 at 0x7F7018A36748> ['Not_Face']\n",
            "<PIL.Image.Image image mode=RGB size=49x34 at 0x7F70193326A0> ['Not_Face']\n",
            "<PIL.Image.Image image mode=RGB size=61x65 at 0x7F7019330D68> ['Emotion_Happy', 'Age_40_50', 'E_White', 'G_Male']\n",
            "<PIL.Image.Image image mode=RGB size=87x65 at 0x7F7019332E48> ['Not_Face']\n",
            "<PIL.Image.Image image mode=RGB size=46x44 at 0x7F7019330BE0> ['Not_Face']\n",
            "<PIL.Image.Image image mode=RGB size=77x98 at 0x7F7018A367F0> ['Not_Face']\n",
            "<PIL.Image.Image image mode=RGB size=103x108 at 0x7F7019323E80> ['Not_Face']\n",
            "<PIL.Image.Image image mode=RGB size=120x159 at 0x7F7019332F60> ['Emotion_Neutral', 'Age_below20', 'Age_30_40', 'Age_above_50']\n",
            "<PIL.Image.Image image mode=RGB size=145x108 at 0x7F7018A36B38> ['Not_Face', 'Emotion_Neutral', 'Age_below20']\n",
            "<PIL.Image.Image image mode=RGB size=49x53 at 0x7F701932B080> ['Emotion_Neutral', 'Age_20_30', 'E_White', 'G_ Female']\n",
            "<PIL.Image.Image image mode=RGB size=75x67 at 0x7F7019332AC8> ['Emotion_Neutral', 'Age_20_30', 'E_White', 'G_Male']\n",
            "<PIL.Image.Image image mode=RGB size=22x23 at 0x7F7019332D30> ['Emotion_Neutral', 'Age_30_40', 'E_White', 'G_ Female']\n",
            "<PIL.Image.Image image mode=RGB size=223x234 at 0x7F7018A36B00> ['Emotion_Neutral', 'Age_20_30', 'E_White', 'G_Male']\n",
            "<PIL.Image.Image image mode=RGB size=40x35 at 0x7F7019332048> ['Emotion_Neutral', 'Age_20_30', 'E_Indian', 'G_Male']\n",
            "<PIL.Image.Image image mode=RGB size=40x27 at 0x7F7019332CC0> ['Emotion_Neutral', 'Age_30_40', 'E_White', 'G_Male']\n",
            "<PIL.Image.Image image mode=RGB size=32x33 at 0x7F7018A362B0> ['Emotion_Neutral', 'Age_below20', 'E_Asian', 'G_Male']\n",
            "<PIL.Image.Image image mode=RGB size=38x35 at 0x7F7018A36860> ['Emotion_Neutral', 'Age_30_40', 'E_White', 'G_ Female']\n",
            "<PIL.Image.Image image mode=RGB size=25x24 at 0x7F7018A375F8> ['Emotion_Neutral', 'Age_20_30', 'E_White', 'G_ Female']\n",
            "<PIL.Image.Image image mode=RGB size=23x26 at 0x7F7018A37400> ['Not_Face']\n",
            "<PIL.Image.Image image mode=RGB size=299x323 at 0x7F7018A36B70> ['Emotion_Neutral', 'Age_30_40', 'E_White', 'G_Male']\n",
            "<PIL.Image.Image image mode=RGB size=85x94 at 0x7F7018A369B0> ['Emotion_Sad', 'Age_20_30', 'E_White', 'G_Male']\n",
            "<PIL.Image.Image image mode=RGB size=85x79 at 0x7F7018A36E80> ['Emotion_Neutral', 'Age_20_30', 'E_White', 'G_ Female']\n",
            "<PIL.Image.Image image mode=RGB size=87x85 at 0x7F7018A36978> ['Emotion_Happy', 'Age_20_30', 'E_White', 'G_ Female']\n",
            "<PIL.Image.Image image mode=RGB size=95x89 at 0x7F7018A37128> ['Emotion_Neutral', 'Age_20_30', 'E_Asian', 'G_Male']\n",
            "<PIL.Image.Image image mode=RGB size=87x103 at 0x7F7018A37710> ['Emotion_Angry', 'Age_30_40', 'E_Hispanic', 'G_Male']\n",
            "<PIL.Image.Image image mode=RGB size=87x89 at 0x7F7018A36F60> ['Emotion_Happy', 'Age_20_30', 'E_Hispanic', 'G_ Female']\n",
            "<PIL.Image.Image image mode=RGB size=41x49 at 0x7F7019332C50> ['Emotion_Neutral', 'Age_above_50', 'E_White', 'G_Male']\n",
            "<PIL.Image.Image image mode=RGB size=253x225 at 0x7F7018A36EF0> ['Emotion_Neutral', 'Age_30_40', 'E_White', 'G_Male']\n",
            "<PIL.Image.Image image mode=RGB size=35x27 at 0x7F7018A36DD8> ['Not_Face']\n",
            "<PIL.Image.Image image mode=RGB size=21x20 at 0x7F7018A370F0> ['Not_Face']\n",
            "<PIL.Image.Image image mode=RGB size=24x23 at 0x7F7018A37AC8> ['Not_Face']\n",
            "<PIL.Image.Image image mode=RGB size=33x28 at 0x7F7018A37D30> ['Emotion_Neutral', 'Age_below20', 'E_Asian', 'G_Male']\n",
            "<PIL.Image.Image image mode=RGB size=33x29 at 0x7F7018A37BE0> ['Emotion_Neutral', 'Age_20_30', 'E_Asian', 'G_Male']\n",
            "<PIL.Image.Image image mode=RGB size=52x45 at 0x7F7019332828> ['Emotion_Sad', 'Age_20_30', 'E_Indian', 'G_ Female']\n",
            "<PIL.Image.Image image mode=RGB size=30x27 at 0x7F7018A376A0> ['Emotion_Sad', 'Age_20_30', 'E_Indian', 'G_Male']\n",
            "<PIL.Image.Image image mode=RGB size=27x29 at 0x7F7018A379E8> ['Emotion_Neutral', 'Age_20_30', 'E_Indian', 'G_Male']\n",
            "<PIL.Image.Image image mode=RGB size=28x32 at 0x7F7018A37240> ['Not_Face']\n",
            "<PIL.Image.Image image mode=RGB size=21x26 at 0x7F7018A374A8> ['Not_Face']\n",
            "<PIL.Image.Image image mode=RGB size=12x20 at 0x7F7018A3F240> ['Emotion_Neutral', 'Age_20_30', 'E_Indian', 'G_Male']\n",
            "<PIL.Image.Image image mode=RGB size=24x31 at 0x7F7018A3F320> ['Not_Face']\n",
            "<PIL.Image.Image image mode=RGB size=41x47 at 0x7F7018A3F400> ['Not_Face']\n",
            "<PIL.Image.Image image mode=RGB size=18x20 at 0x7F7018A37BA8> ['Not_Face']\n",
            "<PIL.Image.Image image mode=RGB size=118x121 at 0x7F7018A37A58> ['Emotion_Happy', 'Age_20_30', 'E_Hispanic', 'G_ Female']\n",
            "<PIL.Image.Image image mode=RGB size=116x95 at 0x7F7018A378D0> ['Emotion_Happy', 'Age_20_30', 'E_Black', 'G_ Female']\n",
            "<PIL.Image.Image image mode=RGB size=131x132 at 0x7F7018A37A90> ['Emotion_Happy', 'Age_20_30', 'E_White', 'G_ Female']\n",
            "<PIL.Image.Image image mode=RGB size=30x34 at 0x7F7019323F98> ['Emotion_Happy', 'Age_20_30', 'E_Asian', 'G_ Female']\n",
            "<PIL.Image.Image image mode=RGB size=27x37 at 0x7F7018A37278> ['Emotion_Happy', 'Age_20_30', 'E_Asian', 'G_ Female']\n",
            "<PIL.Image.Image image mode=RGB size=17x16 at 0x7F7018A37E48> ['Emotion_Neutral', 'Age_20_30', 'G_ Female', 'E_Asian']\n",
            "<PIL.Image.Image image mode=RGB size=16x18 at 0x7F7019332898> ['Emotion_Neutral', 'Age_above_50', 'E_Asian', 'G_ Female']\n",
            "<PIL.Image.Image image mode=RGB size=110x108 at 0x7F70193300F0> ['Emotion_Happy', 'Age_30_40', 'E_White', 'G_ Female']\n",
            "<PIL.Image.Image image mode=RGB size=50x55 at 0x7F7019332EB8> ['Emotion_Happy', 'Age_30_40', 'E_Black', 'G_ Female']\n",
            "<PIL.Image.Image image mode=RGB size=27x27 at 0x7F7018A3FB38> ['Not_Face']\n",
            "<PIL.Image.Image image mode=RGB size=69x87 at 0x7F7018A36E10> ['Age_30_40', 'Emotion_Happy', 'E_White', 'G_ Female']\n",
            "<PIL.Image.Image image mode=RGB size=62x72 at 0x7F7018A37780> ['Emotion_Happy', 'Age_below20', 'E_White', 'G_ Female']\n",
            "<PIL.Image.Image image mode=RGB size=101x106 at 0x7F7018A3F978> ['Emotion_Happy', 'Age_30_40', 'E_Black', 'G_Male']\n",
            "<PIL.Image.Image image mode=RGB size=69x49 at 0x7F7018A449E8> ['Not_Face']\n",
            "<PIL.Image.Image image mode=RGB size=35x37 at 0x7F7018A3F128> ['Emotion_Neutral', 'Age_30_40', 'E_White', 'G_Male']\n",
            "<PIL.Image.Image image mode=RGB size=31x29 at 0x7F7018A3F198> ['Not_Face']\n",
            "<PIL.Image.Image image mode=RGB size=18x20 at 0x7F7018A3FAC8> ['Emotion_Neutral', 'Age_20_30', 'E_White', 'G_ Female']\n",
            "<PIL.Image.Image image mode=RGB size=22x28 at 0x7F7018A3FF28> ['Emotion_Neutral', 'Age_20_30', 'E_White', 'G_ Female']\n",
            "<PIL.Image.Image image mode=RGB size=50x30 at 0x7F7018A36F28> ['Not_Face']\n",
            "<PIL.Image.Image image mode=RGB size=38x49 at 0x7F7018A3FFD0> ['Emotion_Neutral', 'Age_20_30', 'E_Asian', 'G_ Female']\n",
            "<PIL.Image.Image image mode=RGB size=105x108 at 0x7F7018A3FC18> ['Emotion_Happy', 'Age_30_40', 'E_Black', 'G_ Female']\n",
            "<PIL.Image.Image image mode=RGB size=339x403 at 0x7F7018A446D8> ['Emotion_Neutral', 'Age_20_30', 'E_Black', 'G_Male']\n",
            "<PIL.Image.Image image mode=RGB size=154x178 at 0x7F7018A45E10> ['Emotion_Neutral', 'Age_20_30', 'E_Hispanic', 'G_Male']\n",
            "<PIL.Image.Image image mode=RGB size=139x275 at 0x7F7018A3FE48> ['Emotion_Neutral', 'Age_20_30', 'E_Hispanic', 'E_Arab', 'G_Male']\n",
            "<PIL.Image.Image image mode=RGB size=331x294 at 0x7F7018A3FA90> ['Emotion_Neutral', 'Age_20_30', 'E_Black', 'G_ Female']\n",
            "<PIL.Image.Image image mode=RGB size=26x20 at 0x7F7018A44E80> ['Not_Face']\n",
            "<PIL.Image.Image image mode=RGB size=23x17 at 0x7F7018A3FF60> ['Not_Face']\n",
            "<PIL.Image.Image image mode=RGB size=401x507 at 0x7F7018A3F048> ['Emotion_Neutral', 'Age_40_50', 'E_Asian', 'G_Male']\n",
            "<PIL.Image.Image image mode=RGB size=55x50 at 0x7F7018A45E48> ['Not_Face']\n",
            "<PIL.Image.Image image mode=RGB size=45x34 at 0x7F7018A3FEB8> ['Not_Face']\n",
            "<PIL.Image.Image image mode=RGB size=45x28 at 0x7F7018A447F0> ['Not_Face']\n",
            "<PIL.Image.Image image mode=RGB size=48x45 at 0x7F7018A470F0> ['Not_Face']\n",
            "<PIL.Image.Image image mode=RGB size=29x36 at 0x7F7018A37C88> ['Emotion_Happy', 'Age_40_50', 'E_White', 'G_Male']\n",
            "<PIL.Image.Image image mode=RGB size=22x27 at 0x7F7018A45EB8> ['Not_Face', 'Age_40_50', 'G_ Female']\n",
            "<PIL.Image.Image image mode=RGB size=28x24 at 0x7F7018A45518> ['Emotion_Neutral', 'Age_30_40', 'E_White', 'G_ Female']\n",
            "<PIL.Image.Image image mode=RGB size=19x19 at 0x7F7018A474E0> ['Emotion_Neutral', 'Age_40_50', 'E_White', 'G_Male']\n",
            "<PIL.Image.Image image mode=RGB size=19x19 at 0x7F7018A472B0> ['Emotion_Happy', 'Age_30_40', 'E_White', 'G_ Female']\n",
            "<PIL.Image.Image image mode=RGB size=16x18 at 0x7F7018A47A20> ['Not_Face']\n",
            "<PIL.Image.Image image mode=RGB size=25x33 at 0x7F7018A45B70> ['Emotion_Happy']\n",
            "<PIL.Image.Image image mode=RGB size=36x36 at 0x7F7018A37518> ['Emotion_Happy']\n",
            "<PIL.Image.Image image mode=RGB size=47x44 at 0x7F7018A47128> ['Emotion_Happy']\n",
            "<PIL.Image.Image image mode=RGB size=39x44 at 0x7F7018A47A90> ['Emotion_Neutral']\n",
            "<PIL.Image.Image image mode=RGB size=42x37 at 0x7F7018A45F60> ['Emotion_Neutral', 'Age_20_30', 'E_Black', 'G_ Female']\n",
            "<PIL.Image.Image image mode=RGB size=64x47 at 0x7F7018A479B0> ['Emotion_Neutral', 'Age_20_30', 'E_Black', 'G_ Female']\n",
            "<PIL.Image.Image image mode=RGB size=35x29 at 0x7F7018A47B70> ['Emotion_Neutral', 'Age_20_30', 'E_White', 'G_Male']\n",
            "<PIL.Image.Image image mode=RGB size=44x31 at 0x7F7018A47048> ['Not_Face']\n",
            "<PIL.Image.Image image mode=RGB size=142x171 at 0x7F7018A47358> ['Emotion_Neutral', 'Age_30_40', 'E_Black', 'G_ Female']\n",
            "<PIL.Image.Image image mode=RGB size=120x138 at 0x7F7018A47EF0> ['Emotion_Neutral', 'Age_20_30', 'E_Black', 'G_ Female']\n",
            "<PIL.Image.Image image mode=RGB size=61x72 at 0x7F7018A47AC8> ['Emotion_Neutral', 'Age_30_40', 'E_White', 'G_Male']\n",
            "<PIL.Image.Image image mode=RGB size=15x20 at 0x7F7018A475F8> ['Not_Face']\n",
            "<PIL.Image.Image image mode=RGB size=98x120 at 0x7F7018A47CF8> ['Emotion_Happy', 'Age_20_30', 'E_White', 'G_ Female']\n",
            "<PIL.Image.Image image mode=RGB size=48x56 at 0x7F7018A44C18> ['Emotion_Neutral', 'Age_30_40', 'E_White', 'G_Male']\n",
            "<PIL.Image.Image image mode=RGB size=62x58 at 0x7F7018A4D470> ['Emotion_Neutral', 'Age_20_30', 'G_ Female', 'E_White']\n",
            "<PIL.Image.Image image mode=RGB size=82x85 at 0x7F7018A45E80> ['Emotion_Sad', 'Age_20_30', 'E_White', 'G_ Female']\n",
            "<PIL.Image.Image image mode=RGB size=62x85 at 0x7F7018A47F98> ['Emotion_Neutral', 'Age_20_30', 'E_Black', 'G_ Female']\n",
            "<PIL.Image.Image image mode=RGB size=37x34 at 0x7F7018A471D0> ['Emotion_Neutral', 'Age_30_40', 'E_Black', 'G_Male']\n",
            "<PIL.Image.Image image mode=RGB size=19x24 at 0x7F7018A4D2B0> ['Emotion_Neutral', 'Age_below20', 'G_ Female', 'E_Black']\n",
            "<PIL.Image.Image image mode=RGB size=46x54 at 0x7F7018A45D68> ['Emotion_Neutral', 'Age_below20', 'E_White', 'G_ Female']\n",
            "<PIL.Image.Image image mode=RGB size=45x59 at 0x7F7018A47400> ['Emotion_Happy', 'Age_20_30', 'E_White', 'G_ Female']\n",
            "<PIL.Image.Image image mode=RGB size=56x61 at 0x7F7018A47F28> ['Emotion_Happy', 'Age_20_30', 'E_White', 'G_ Female']\n",
            "<PIL.Image.Image image mode=RGB size=38x34 at 0x7F7018A47860> ['Not_Face']\n",
            "<PIL.Image.Image image mode=RGB size=20x21 at 0x7F7018A47550> ['Not_Face']\n",
            "<PIL.Image.Image image mode=RGB size=75x91 at 0x7F7018A4D128> ['Not_Face']\n",
            "<PIL.Image.Image image mode=RGBA size=179x253 at 0x7F7018A3FE80> ['Not_Face']\n",
            "<PIL.Image.Image image mode=RGB size=22x25 at 0x7F7018A3F2B0> ['Not_Face']\n",
            "<PIL.Image.Image image mode=RGB size=18x22 at 0x7F7018A47208> ['Not_Face']\n",
            "<PIL.Image.Image image mode=RGB size=22x28 at 0x7F7018A47978> ['Not_Face']\n",
            "<PIL.Image.Image image mode=RGB size=20x28 at 0x7F7018A4D710> ['Not_Face']\n",
            "<PIL.Image.Image image mode=RGB size=20x18 at 0x7F7018A4D400> ['Not_Face']\n",
            "<PIL.Image.Image image mode=RGB size=204x242 at 0x7F7018A47D30> ['Emotion_Neutral', 'Age_20_30', 'E_White', 'G_ Female']\n",
            "<PIL.Image.Image image mode=RGB size=141x111 at 0x7F7018A37CF8> ['Emotion_Neutral', 'Age_30_40', 'E_White', 'G_ Female']\n",
            "<PIL.Image.Image image mode=RGB size=53x60 at 0x7F7018A47BA8> ['Emotion_Happy', 'Age_20_30', 'E_White', 'G_ Female']\n",
            "<PIL.Image.Image image mode=RGB size=71x71 at 0x7F7018A47240> ['Emotion_Happy', 'Age_30_40', 'E_White', 'G_ Female']\n",
            "<PIL.Image.Image image mode=RGB size=59x76 at 0x7F7018A4DA90> ['Emotion_Happy', 'Age_30_40', 'E_White', 'G_ Female']\n",
            "<PIL.Image.Image image mode=RGB size=85x81 at 0x7F7018A4D208> ['Emotion_Neutral', 'Age_40_50', 'E_White', 'G_ Female']\n",
            "<PIL.Image.Image image mode=RGB size=28x32 at 0x7F7018A4D5C0> ['Emotion_Neutral', 'Age_40_50', 'E_White', 'G_Male']\n",
            "<PIL.Image.Image image mode=RGB size=51x47 at 0x7F7018A47940> ['Emotion_Neutral', 'Age_30_40', 'E_Indian', 'G_Male']\n",
            "<PIL.Image.Image image mode=RGB size=21x28 at 0x7F7018A45B38> ['Not_Face']\n",
            "<PIL.Image.Image image mode=RGB size=30x28 at 0x7F7018A47E80> ['Not_Face']\n",
            "<PIL.Image.Image image mode=RGB size=13x13 at 0x7F7018A4DE80> ['Not_Face']\n",
            "<PIL.Image.Image image mode=RGB size=12x12 at 0x7F7018A4D4E0> ['Not_Face']\n",
            "<PIL.Image.Image image mode=RGB size=11x11 at 0x7F7018A4D978> ['Not_Face']\n",
            "<PIL.Image.Image image mode=RGB size=13x12 at 0x7F7018A4DF98> ['Not_Face']\n",
            "<PIL.Image.Image image mode=RGB size=9x13 at 0x7F7018A52128> ['Not_Face']\n",
            "<PIL.Image.Image image mode=RGB size=9x12 at 0x7F7018A52208> ['Not_Face']\n",
            "<PIL.Image.Image image mode=RGB size=8x12 at 0x7F7018A522E8> ['Not_Face']\n",
            "<PIL.Image.Image image mode=RGB size=29x38 at 0x7F7018A37438> ['Emotion_Neutral', 'Age_below20', 'E_Indian', 'G_ Female']\n",
            "<PIL.Image.Image image mode=RGB size=20x20 at 0x7F7018A4DF28> ['Emotion_Neutral', 'Age_20_30', 'E_Indian', 'G_ Female']\n",
            "<PIL.Image.Image image mode=RGB size=26x21 at 0x7F7018A4D320> ['Emotion_Sad', 'Age_20_30', 'E_Indian', 'G_Male']\n",
            "<PIL.Image.Image image mode=RGB size=30x30 at 0x7F7018A47470> ['Emotion_Happy', 'Age_30_40', 'E_Indian', 'G_Male']\n",
            "<PIL.Image.Image image mode=RGB size=20x21 at 0x7F7018A52358> ['Emotion_Neutral', 'Age_40_50', 'E_Indian', 'G_Male']\n",
            "<PIL.Image.Image image mode=RGB size=102x109 at 0x7F7018A524E0> ['Not_Face']\n",
            "<PIL.Image.Image image mode=RGB size=14x17 at 0x7F7018A525C0> ['Emotion_Neutral', 'Age_above_50', 'E_Indian', 'G_Male']\n",
            "<PIL.Image.Image image mode=RGB size=16x18 at 0x7F7018A526A0> ['Not_Face']\n",
            "<PIL.Image.Image image mode=RGB size=74x71 at 0x7F7018A4D828> ['Emotion_Neutral']\n",
            "<PIL.Image.Image image mode=RGB size=96x77 at 0x7F7018A4D630> ['Emotion_Neutral']\n",
            "<PIL.Image.Image image mode=RGB size=410x436 at 0x7F7018A4DBA8> ['Emotion_Neutral', 'Age_30_40', 'E_Indian', 'G_Male']\n",
            "<PIL.Image.Image image mode=RGB size=356x404 at 0x7F7018A4D518> ['Emotion_Neutral', 'Age_20_30', 'E_Indian', 'G_ Female']\n",
            "<PIL.Image.Image image mode=RGB size=22x42 at 0x7F7018A4D3C8> ['Emotion_Happy']\n",
            "<PIL.Image.Image image mode=RGB size=26x33 at 0x7F7018A4DE48> ['Emotion_Neutral']\n",
            "<PIL.Image.Image image mode=RGB size=13x21 at 0x7F7018A4DFD0> ['Not_Face']\n",
            "<PIL.Image.Image image mode=RGB size=28x33 at 0x7F7018A4DBE0> ['Age_above_50', 'Emotion_Neutral', 'E_Indian', 'G_Male']\n",
            "<PIL.Image.Image image mode=RGB size=276x344 at 0x7F7018A4DDA0> ['Emotion_Happy', 'Age_20_30', 'E_Indian', 'G_Male']\n",
            "<PIL.Image.Image image mode=RGB size=38x40 at 0x7F7018A4D1D0> ['Emotion_Neutral', 'Age_20_30', 'E_Indian', 'G_ Female']\n",
            "<PIL.Image.Image image mode=RGB size=17x21 at 0x7F7018A4D780> ['Not_Face']\n",
            "<PIL.Image.Image image mode=RGB size=14x16 at 0x7F7018A52BA8> ['Not_Face']\n",
            "<PIL.Image.Image image mode=RGB size=49x35 at 0x7F7018A4DF60> ['Emotion_Sad', 'Age_above_50', 'E_Indian', 'G_ Female']\n",
            "<PIL.Image.Image image mode=RGB size=31x37 at 0x7F7018A475C0> ['Not_Face']\n",
            "<PIL.Image.Image image mode=RGB size=60x59 at 0x7F701A55DCC0> ['Not_Face']\n",
            "<PIL.Image.Image image mode=RGB size=65x68 at 0x7F7018A52B00> ['Not_Face']\n",
            "<PIL.Image.Image image mode=RGB size=71x90 at 0x7F7018A4DC50> ['Emotion_Neutral', 'Age_30_40', 'E_Indian', 'G_Male']\n",
            "<PIL.Image.Image image mode=RGB size=42x50 at 0x7F7018A525F8> ['Emotion_Neutral', 'Age_below20', 'E_Indian', 'G_Male']\n",
            "<PIL.Image.Image image mode=RGB size=44x45 at 0x7F7018A52E48> ['Not_Face']\n",
            "<PIL.Image.Image image mode=RGB size=26x27 at 0x7F7018A52048> ['Not_Face']\n",
            "<PIL.Image.Image image mode=RGB size=39x39 at 0x7F7018A52E10> ['Not_Face']\n",
            "<PIL.Image.Image image mode=RGB size=17x26 at 0x7F7018A58160> ['Not_Face']\n",
            "<PIL.Image.Image image mode=RGB size=28x33 at 0x7F7018A58240> ['Not_Face']\n",
            "<PIL.Image.Image image mode=RGB size=49x59 at 0x7F7018A4D7B8> ['Emotion_Neutral', 'Age_20_30', 'E_White', 'G_Male']\n",
            "<PIL.Image.Image image mode=RGB size=100x131 at 0x7F7018A45F28> ['Emotion_Neutral', 'Age_20_30', 'E_Indian', 'G_ Female']\n",
            "<PIL.Image.Image image mode=RGB size=34x35 at 0x7F7018A52550> ['Emotion_Neutral', 'Age_30_40', 'E_Indian', 'G_Male']\n",
            "<PIL.Image.Image image mode=RGB size=46x39 at 0x7F7018A52FD0> ['Not_Face']\n",
            "<PIL.Image.Image image mode=RGB size=41x32 at 0x7F7018A52080> ['Not_Face']\n",
            "<PIL.Image.Image image mode=RGB size=47x38 at 0x7F7018A52780> ['Not_Face']\n",
            "<PIL.Image.Image image mode=RGB size=34x21 at 0x7F7018A58550> ['Not_Face']\n",
            "<PIL.Image.Image image mode=RGB size=57x48 at 0x7F7018A58630> ['Emotion_Neutral', 'Age_20_30', 'E_Indian', 'G_ Female']\n",
            "<PIL.Image.Image image mode=RGB size=83x74 at 0x7F7018A58710> ['Emotion_Neutral', 'Age_20_30', 'E_Indian', 'G_ Female']\n",
            "<PIL.Image.Image image mode=RGB size=49x49 at 0x7F7018A587F0> ['Emotion_Neutral', 'Age_40_50', 'E_Indian', 'G_ Female']\n",
            "<PIL.Image.Image image mode=RGB size=63x64 at 0x7F7018A588D0> ['Emotion_Neutral', 'Age_40_50', 'E_Indian', 'G_Male']\n",
            "<PIL.Image.Image image mode=RGB size=37x68 at 0x7F7018A589B0> ['Emotion_Neutral', 'Age_30_40', 'E_Indian', 'G_ Female']\n",
            "<PIL.Image.Image image mode=RGB size=32x32 at 0x7F7018A58A90> ['Not_Face']\n",
            "<PIL.Image.Image image mode=RGB size=40x41 at 0x7F7018A58B70> ['Not_Face']\n",
            "<PIL.Image.Image image mode=RGB size=39x36 at 0x7F7018A58C50> ['Not_Face']\n",
            "<PIL.Image.Image image mode=RGB size=19x24 at 0x7F7018A58D30> ['Not_Face']\n",
            "<PIL.Image.Image image mode=RGB size=56x79 at 0x7F7018A58E10> ['Not_Face']\n",
            "<PIL.Image.Image image mode=RGB size=93x101 at 0x7F7018A52978> ['Emotion_Happy', 'Age_40_50', 'E_Indian', 'G_Male']\n",
            "<PIL.Image.Image image mode=RGB size=43x36 at 0x7F7018A52EF0> ['Emotion_Happy', 'Age_30_40', 'E_Indian', 'G_Male']\n",
            "<PIL.Image.Image image mode=RGB size=19x27 at 0x7F7018A526D8> ['Emotion_Neutral', 'Age_20_30', 'E_Indian', 'G_Male']\n",
            "<PIL.Image.Image image mode=RGB size=26x28 at 0x7F7018A52470> ['Emotion_Neutral', 'Age_30_40', 'E_Indian', 'G_Male']\n",
            "<PIL.Image.Image image mode=RGB size=42x58 at 0x7F7018A523C8> ['Emotion_Angry', 'Age_40_50', 'E_Indian', 'G_ Female']\n",
            "<PIL.Image.Image image mode=RGB size=48x39 at 0x7F7018A52F28> ['Not_Face']\n",
            "<PIL.Image.Image image mode=RGB size=61x63 at 0x7F7018A47C50> ['Emotion_Happy']\n",
            "<PIL.Image.Image image mode=RGB size=75x72 at 0x7F7018A527F0> ['Emotion_Sad']\n",
            "<PIL.Image.Image image mode=RGB size=97x89 at 0x7F7018A527B8> ['Emotion_Angry']\n",
            "<PIL.Image.Image image mode=RGB size=20x23 at 0x7F7018A52DA0> ['Emotion_Neutral', 'Age_30_40', 'E_Indian', 'G_Male']\n",
            "<PIL.Image.Image image mode=RGB size=20x17 at 0x7F7018A4D160> ['Emotion_Neutral', 'Age_20_30', 'E_Indian', 'G_Male']\n",
            "<PIL.Image.Image image mode=RGB size=22x24 at 0x7F7018A52240> ['Emotion_Neutral', 'Age_40_50', 'E_Indian', 'G_Male']\n",
            "<PIL.Image.Image image mode=RGB size=37x36 at 0x7F7018A52A58> ['Emotion_Neutral', 'Age_20_30', 'E_Indian', 'G_ Female']\n",
            "<PIL.Image.Image image mode=RGB size=49x56 at 0x7F7018A4D550> ['Emotion_Neutral', 'Age_30_40', 'E_Indian', 'G_ Female']\n",
            "<PIL.Image.Image image mode=RGB size=66x89 at 0x7F7018A529E8> ['Emotion_Happy', 'Age_20_30', 'E_White', 'G_ Female']\n",
            "<PIL.Image.Image image mode=RGB size=99x129 at 0x7F7018A4D8D0> ['Emotion_Happy', 'Age_above_50', 'E_White', 'G_ Female']\n",
            "<PIL.Image.Image image mode=RGB size=103x109 at 0x7F7018A52C88> ['Emotion_Happy', 'Age_20_30', 'E_White', 'G_ Female']\n",
            "<PIL.Image.Image image mode=RGB size=40x39 at 0x7F7018A52B38> ['Emotion_Sad', 'Age_30_40', 'E_Indian', 'G_ Female']\n",
            "<PIL.Image.Image image mode=RGB size=30x38 at 0x7F7018A58860> ['Emotion_Neutral', 'Age_below20', 'E_Indian', 'G_ Female']\n",
            "<PIL.Image.Image image mode=RGB size=41x54 at 0x7F7018A584A8> ['Emotion_Neutral', 'Age_30_40', 'E_Indian', 'G_Male']\n",
            "<PIL.Image.Image image mode=RGB size=48x61 at 0x7F7018A52390> ['Emotion_Neutral', 'Age_above_50', 'E_Indian', 'G_Male']\n",
            "<PIL.Image.Image image mode=RGB size=45x52 at 0x7F7018A58940> ['Emotion_Neutral', 'Age_30_40', 'E_Indian', 'G_Male']\n",
            "<PIL.Image.Image image mode=RGB size=52x37 at 0x7F7018A58828> ['Emotion_Neutral', 'Age_30_40', 'E_Indian', 'G_ Female']\n",
            "<PIL.Image.Image image mode=RGB size=76x117 at 0x7F7018A58470> ['Emotion_Neutral', 'Age_20_30', 'E_Indian', 'G_ Female']\n",
            "<PIL.Image.Image image mode=RGB size=71x56 at 0x7F7018A585C0> ['Not_Face']\n",
            "<PIL.Image.Image image mode=RGB size=55x59 at 0x7F7018A58C88> ['Not_Face']\n",
            "<PIL.Image.Image image mode=RGB size=102x129 at 0x7F7018A52860> ['Not_Face']\n",
            "<PIL.Image.Image image mode=RGB size=1612x1976 at 0x7F7018A4DB70> ['Emotion_Neutral']\n",
            "<PIL.Image.Image image mode=RGB size=99x92 at 0x7F7018A58EF0> ['Not_Face']\n",
            "<PIL.Image.Image image mode=RGB size=50x45 at 0x7F7018A52CC0> ['Not_Face']\n",
            "<PIL.Image.Image image mode=RGB size=31x41 at 0x7F7018A61080> ['Not_Face']\n",
            "<PIL.Image.Image image mode=RGB size=57x69 at 0x7F7018A583C8> ['Emotion_Neutral', 'Age_20_30', 'E_White', 'G_ Female']\n",
            "<PIL.Image.Image image mode=RGB size=67x76 at 0x7F7018A4DEB8> ['Emotion_Happy', 'Age_30_40', 'E_Black', 'G_Male']\n",
            "<PIL.Image.Image image mode=RGB size=98x85 at 0x7F7018A61438> ['Emotion_Happy', 'Age_30_40', 'E_Black', 'G_ Female']\n",
            "<PIL.Image.Image image mode=RGB size=51x53 at 0x7F7018A61668> ['Emotion_Happy', 'Age_below20', 'E_White', 'G_Male']\n",
            "<PIL.Image.Image image mode=RGB size=225x197 at 0x7F7018A4D588> ['Not_Face']\n",
            "<PIL.Image.Image image mode=RGB size=253x368 at 0x7F7018A58BE0> ['Emotion_Happy', 'Age_above_50', 'E_White', 'G_Male']\n"
          ],
          "name": "stdout"
        }
      ]
    },
    {
      "cell_type": "markdown",
      "metadata": {
        "id": "DjbshtdiFSHx",
        "colab_type": "text"
      },
      "source": [
        "The images which are not human faces are discarded along with its labels"
      ]
    },
    {
      "cell_type": "code",
      "metadata": {
        "id": "eEle7V6GdF6i",
        "colab_type": "code",
        "outputId": "e0a974d7-e1ee-46b4-b8d3-0f6f328947ec",
        "colab": {
          "base_uri": "https://localhost:8080/",
          "height": 1000
        }
      },
      "source": [
        "pic_ethn = []\n",
        "lab_ethn = []\n",
        "import re\n",
        "for kk in range(len(l)):\n",
        "    for k in l[kk]:\n",
        "        if re.match(r'E_.+',k):\n",
        "            pic_ethn.append(p[kk])\n",
        "            print(re.findall(r'E_.+',k)[0])\n",
        "            lab_ethn.append(re.findall(r'E_.+',k)[0])\n",
        "        else:\n",
        "            continue\n",
        "        "
      ],
      "execution_count": 12,
      "outputs": [
        {
          "output_type": "stream",
          "text": [
            "E_White\n",
            "E_White\n",
            "E_Hispanic\n",
            "E_White\n",
            "E_White\n",
            "E_Asian\n",
            "E_White\n",
            "E_White\n",
            "E_Asian\n",
            "E_White\n",
            "E_White\n",
            "E_White\n",
            "E_White\n",
            "E_Black\n",
            "E_White\n",
            "E_White\n",
            "E_Black\n",
            "E_White\n",
            "E_Asian\n",
            "E_White\n",
            "E_White\n",
            "E_White\n",
            "E_White\n",
            "E_White\n",
            "E_White\n",
            "E_White\n",
            "E_Black\n",
            "E_Asian\n",
            "E_White\n",
            "E_White\n",
            "E_White\n",
            "E_White\n",
            "E_White\n",
            "E_White\n",
            "E_White\n",
            "E_White\n",
            "E_White\n",
            "E_White\n",
            "E_Hispanic\n",
            "E_White\n",
            "E_Black\n",
            "E_White\n",
            "E_White\n",
            "E_White\n",
            "E_White\n",
            "E_White\n",
            "E_Asian\n",
            "E_White\n",
            "E_White\n",
            "E_White\n",
            "E_White\n",
            "E_Asian\n",
            "E_Arab\n",
            "E_White\n",
            "E_White\n",
            "E_White\n",
            "E_White\n",
            "E_White\n",
            "E_White\n",
            "E_White\n",
            "E_Black\n",
            "E_White\n",
            "E_White\n",
            "E_White\n",
            "E_White\n",
            "E_White\n",
            "E_Indian\n",
            "E_White\n",
            "E_White\n",
            "E_Indian\n",
            "E_Indian\n",
            "E_Indian\n",
            "E_Indian\n",
            "E_White\n",
            "E_Black\n",
            "E_White\n",
            "E_White\n",
            "E_White\n",
            "E_White\n",
            "E_White\n",
            "E_Indian\n",
            "E_White\n",
            "E_Asian\n",
            "E_White\n",
            "E_White\n",
            "E_White\n",
            "E_White\n",
            "E_White\n",
            "E_White\n",
            "E_Asian\n",
            "E_Hispanic\n",
            "E_Hispanic\n",
            "E_White\n",
            "E_White\n",
            "E_Asian\n",
            "E_Asian\n",
            "E_Indian\n",
            "E_Indian\n",
            "E_Indian\n",
            "E_Indian\n",
            "E_Hispanic\n",
            "E_Black\n",
            "E_White\n",
            "E_Asian\n",
            "E_Asian\n",
            "E_Asian\n",
            "E_Asian\n",
            "E_White\n",
            "E_Black\n",
            "E_White\n",
            "E_White\n",
            "E_Black\n",
            "E_White\n",
            "E_White\n",
            "E_White\n",
            "E_Asian\n",
            "E_Black\n",
            "E_Black\n",
            "E_Hispanic\n",
            "E_Hispanic\n",
            "E_Arab\n",
            "E_Black\n",
            "E_Asian\n",
            "E_White\n",
            "E_White\n",
            "E_White\n",
            "E_White\n",
            "E_Black\n",
            "E_Black\n",
            "E_White\n",
            "E_Black\n",
            "E_Black\n",
            "E_White\n",
            "E_White\n",
            "E_White\n",
            "E_White\n",
            "E_White\n",
            "E_Black\n",
            "E_Black\n",
            "E_Black\n",
            "E_White\n",
            "E_White\n",
            "E_White\n",
            "E_White\n",
            "E_White\n",
            "E_White\n",
            "E_White\n",
            "E_White\n",
            "E_White\n",
            "E_White\n",
            "E_Indian\n",
            "E_Indian\n",
            "E_Indian\n",
            "E_Indian\n",
            "E_Indian\n",
            "E_Indian\n",
            "E_Indian\n",
            "E_Indian\n",
            "E_Indian\n",
            "E_Indian\n",
            "E_Indian\n",
            "E_Indian\n",
            "E_Indian\n",
            "E_Indian\n",
            "E_Indian\n",
            "E_White\n",
            "E_Indian\n",
            "E_Indian\n",
            "E_Indian\n",
            "E_Indian\n",
            "E_Indian\n",
            "E_Indian\n",
            "E_Indian\n",
            "E_Indian\n",
            "E_Indian\n",
            "E_Indian\n",
            "E_Indian\n",
            "E_Indian\n",
            "E_Indian\n",
            "E_Indian\n",
            "E_Indian\n",
            "E_Indian\n",
            "E_Indian\n",
            "E_White\n",
            "E_White\n",
            "E_White\n",
            "E_Indian\n",
            "E_Indian\n",
            "E_Indian\n",
            "E_Indian\n",
            "E_Indian\n",
            "E_Indian\n",
            "E_Indian\n",
            "E_White\n",
            "E_Black\n",
            "E_Black\n",
            "E_White\n",
            "E_White\n"
          ],
          "name": "stdout"
        }
      ]
    },
    {
      "cell_type": "markdown",
      "metadata": {
        "id": "zOmByr9qFdVR",
        "colab_type": "text"
      },
      "source": [
        "This piece of code used a regular expression module in python to extract ethnicity of the pictures and forms an array comprising of those ethnicity"
      ]
    },
    {
      "cell_type": "code",
      "metadata": {
        "id": "czIrtKwJdF_U",
        "colab_type": "code",
        "outputId": "da9e8fc5-01fb-4bde-9f01-2c71ab6bae5d",
        "colab": {
          "base_uri": "https://localhost:8080/",
          "height": 296
        }
      },
      "source": [
        "pic_ethn[16]\n",
        "# Final array 'pic_ethn' is used for ethnicity detection"
      ],
      "execution_count": 13,
      "outputs": [
        {
          "output_type": "execute_result",
          "data": {
            "image/png": "[encoded data removed]",
            "text/plain": [
              "<PIL.Image.Image image mode=RGB size=224x279 at 0x7F7019380FD0>"
            ]
          },
          "metadata": {
            "tags": []
          },
          "execution_count": 13
        }
      ]
    },
    {
      "cell_type": "code",
      "metadata": {
        "id": "smqCHrLJdGGM",
        "colab_type": "code",
        "outputId": "ca56381f-57e3-47ad-b0f9-a383a3727b05",
        "colab": {
          "base_uri": "https://localhost:8080/",
          "height": 34
        }
      },
      "source": [
        "lab_ethn[16]\n",
        "#lab_ethn is the label of ethnicity"
      ],
      "execution_count": 14,
      "outputs": [
        {
          "output_type": "execute_result",
          "data": {
            "text/plain": [
              "'E_Black'"
            ]
          },
          "metadata": {
            "tags": []
          },
          "execution_count": 14
        }
      ]
    },
    {
      "cell_type": "code",
      "metadata": {
        "id": "hGvm0n3IdGJb",
        "colab_type": "code",
        "colab": {}
      },
      "source": [
        "k = np.array([0,0])\n",
        "\n",
        "for i in pic_ethn:\n",
        "    k+=np.array(i.size)\n",
        "   \n",
        "k = k/len(pic_ethn)"
      ],
      "execution_count": 0,
      "outputs": []
    },
    {
      "cell_type": "code",
      "metadata": {
        "id": "qxhf9B8mimht",
        "colab_type": "code",
        "outputId": "bf721230-0a72-440f-8de3-7027f97ce5c9",
        "colab": {
          "base_uri": "https://localhost:8080/",
          "height": 34
        }
      },
      "source": [
        "#k is the tuple of (width,height) which is the average width and height of all images\n",
        "k"
      ],
      "execution_count": 16,
      "outputs": [
        {
          "output_type": "execute_result",
          "data": {
            "text/plain": [
              "array([72.86363636, 81.82323232])"
            ]
          },
          "metadata": {
            "tags": []
          },
          "execution_count": 16
        }
      ]
    },
    {
      "cell_type": "code",
      "metadata": {
        "id": "oU5VQBGQoBpO",
        "colab_type": "code",
        "colab": {}
      },
      "source": [
        "import cv2\n",
        "def getnewimg(data):\n",
        "  \n",
        " \n",
        "  #img = cv2.imread(data, cv2.IMREAD_UNCHANGED)\n",
        "  data = np.asarray(data)\n",
        "  print('Original Dimensions : ',data.shape)\n",
        "  try:\n",
        "    i = data.shape[2]\n",
        "  except:\n",
        "    data = np.dstack([data] * 3)\n",
        "    print('Modified Original Dimensions : ',data.shape)\n",
        "    \n",
        "  finally:\n",
        "  \n",
        "    dim = (int(k[0]), int(k[1]))\n",
        "    # resize image\n",
        "    resized = cv2.resize(data, dim, interpolation = cv2.INTER_AREA)\n",
        "    print('returned size {}'.format(np.array(resized).shape))\n",
        "    if np.array(resized).shape[2]==4:\n",
        "      \n",
        "      resized = resized[:,:,0:3]\n",
        "    cv2.waitKey(0)\n",
        "    cv2.destroyAllWindows()\n",
        "    return np.array(resized)\n",
        "  "
      ],
      "execution_count": 0,
      "outputs": []
    },
    {
      "cell_type": "markdown",
      "metadata": {
        "id": "gZvy1Bo3GIvz",
        "colab_type": "text"
      },
      "source": [
        "the above code resizes the images"
      ]
    },
    {
      "cell_type": "code",
      "metadata": {
        "id": "fupFfo2mrL2Q",
        "colab_type": "code",
        "outputId": "3298deda-e6ba-445e-ed03-f955391e7c88",
        "colab": {
          "base_uri": "https://localhost:8080/",
          "height": 85
        }
      },
      "source": [
        "getnewimg(pic_ethn[17]).shape"
      ],
      "execution_count": 18,
      "outputs": [
        {
          "output_type": "stream",
          "text": [
            "Original Dimensions :  (19, 20)\n",
            "Modified Original Dimensions :  (19, 20, 3)\n",
            "returned size (81, 72, 3)\n"
          ],
          "name": "stdout"
        },
        {
          "output_type": "execute_result",
          "data": {
            "text/plain": [
              "(81, 72, 3)"
            ]
          },
          "metadata": {
            "tags": []
          },
          "execution_count": 18
        }
      ]
    },
    {
      "cell_type": "code",
      "metadata": {
        "id": "aMQLqhBvr32A",
        "colab_type": "code",
        "colab": {}
      },
      "source": [
        ""
      ],
      "execution_count": 0,
      "outputs": []
    },
    {
      "cell_type": "code",
      "metadata": {
        "id": "-Nidqy-QdGCq",
        "colab_type": "code",
        "outputId": "89784d30-9385-474b-8521-27a0faab35fe",
        "colab": {
          "base_uri": "https://localhost:8080/",
          "height": 1000
        }
      },
      "source": [
        "mod_img = np.array([np.zeros((81,72,3),dtype = float) for i in range(len(pic_ethn))])\n",
        "for i in range(len(pic_ethn)):\n",
        "    mod_img[i] = getnewimg(pic_ethn[i])\n",
        "    i+=1\n",
        "\n"
      ],
      "execution_count": 19,
      "outputs": [
        {
          "output_type": "stream",
          "text": [
            "Original Dimensions :  (169, 164, 3)\n",
            "returned size (81, 72, 3)\n",
            "Original Dimensions :  (154, 174, 3)\n",
            "returned size (81, 72, 3)\n",
            "Original Dimensions :  (77, 79, 3)\n",
            "returned size (81, 72, 3)\n",
            "Original Dimensions :  (83, 73, 3)\n",
            "returned size (81, 72, 3)\n",
            "Original Dimensions :  (71, 75, 3)\n",
            "returned size (81, 72, 3)\n",
            "Original Dimensions :  (19, 17, 3)\n",
            "returned size (81, 72, 3)\n",
            "Original Dimensions :  (15, 15, 3)\n",
            "returned size (81, 72, 3)\n",
            "Original Dimensions :  (13, 10, 3)\n",
            "returned size (81, 72, 3)\n",
            "Original Dimensions :  (18, 12, 3)\n",
            "returned size (81, 72, 3)\n",
            "Original Dimensions :  (26, 34, 3)\n",
            "returned size (81, 72, 3)\n",
            "Original Dimensions :  (17, 20, 3)\n",
            "returned size (81, 72, 3)\n",
            "Original Dimensions :  (35, 36, 3)\n",
            "returned size (81, 72, 3)\n",
            "Original Dimensions :  (15, 14, 3)\n",
            "returned size (81, 72, 3)\n",
            "Original Dimensions :  (88, 57, 3)\n",
            "returned size (81, 72, 3)\n",
            "Original Dimensions :  (90, 84, 3)\n",
            "returned size (81, 72, 3)\n",
            "Original Dimensions :  (91, 66, 3)\n",
            "returned size (81, 72, 3)\n",
            "Original Dimensions :  (279, 224, 3)\n",
            "returned size (81, 72, 3)\n",
            "Original Dimensions :  (19, 20)\n",
            "Modified Original Dimensions :  (19, 20, 3)\n",
            "returned size (81, 72, 3)\n",
            "Original Dimensions :  (14, 13, 3)\n",
            "returned size (81, 72, 3)\n",
            "Original Dimensions :  (8, 9, 3)\n",
            "returned size (81, 72, 3)\n",
            "Original Dimensions :  (23, 16, 3)\n",
            "returned size (81, 72, 3)\n",
            "Original Dimensions :  (85, 61, 3)\n",
            "returned size (81, 72, 3)\n",
            "Original Dimensions :  (133, 111, 3)\n",
            "returned size (81, 72, 3)\n",
            "Original Dimensions :  (30, 21, 3)\n",
            "returned size (81, 72, 3)\n",
            "Original Dimensions :  (213, 223, 3)\n",
            "returned size (81, 72, 3)\n",
            "Original Dimensions :  (98, 94, 3)\n",
            "returned size (81, 72, 3)\n",
            "Original Dimensions :  (164, 158)\n",
            "Modified Original Dimensions :  (164, 158, 3)\n",
            "returned size (81, 72, 3)\n",
            "Original Dimensions :  (48, 45, 3)\n",
            "returned size (81, 72, 3)\n",
            "Original Dimensions :  (112, 108, 3)\n",
            "returned size (81, 72, 3)\n",
            "Original Dimensions :  (25, 22, 3)\n",
            "returned size (81, 72, 3)\n",
            "Original Dimensions :  (13, 11, 3)\n",
            "returned size (81, 72, 3)\n",
            "Original Dimensions :  (16, 18, 3)\n",
            "returned size (81, 72, 3)\n",
            "Original Dimensions :  (34, 24, 3)\n",
            "returned size (81, 72, 3)\n",
            "Original Dimensions :  (36, 29, 3)\n",
            "returned size (81, 72, 3)\n",
            "Original Dimensions :  (18, 17, 3)\n",
            "returned size (81, 72, 3)\n",
            "Original Dimensions :  (22, 17, 3)\n",
            "returned size (81, 72, 3)\n",
            "Original Dimensions :  (12, 9, 3)\n",
            "returned size (81, 72, 3)\n",
            "Original Dimensions :  (21, 18, 3)\n",
            "returned size (81, 72, 3)\n",
            "Original Dimensions :  (14, 14, 3)\n",
            "returned size (81, 72, 3)\n",
            "Original Dimensions :  (11, 10, 3)\n",
            "returned size (81, 72, 3)\n",
            "Original Dimensions :  (170, 131, 3)\n",
            "returned size (81, 72, 3)\n",
            "Original Dimensions :  (118, 96, 3)\n",
            "returned size (81, 72, 3)\n",
            "Original Dimensions :  (82, 78, 3)\n",
            "returned size (81, 72, 3)\n",
            "Original Dimensions :  (174, 130, 3)\n",
            "returned size (81, 72, 3)\n",
            "Original Dimensions :  (189, 166, 3)\n",
            "returned size (81, 72, 3)\n",
            "Original Dimensions :  (57, 51, 3)\n",
            "returned size (81, 72, 3)\n",
            "Original Dimensions :  (70, 59, 3)\n",
            "returned size (81, 72, 3)\n",
            "Original Dimensions :  (66, 67, 3)\n",
            "returned size (81, 72, 3)\n",
            "Original Dimensions :  (33, 40, 3)\n",
            "returned size (81, 72, 3)\n",
            "Original Dimensions :  (39, 36, 3)\n",
            "returned size (81, 72, 3)\n",
            "Original Dimensions :  (187, 148, 3)\n",
            "returned size (81, 72, 3)\n",
            "Original Dimensions :  (140, 125, 3)\n",
            "returned size (81, 72, 3)\n",
            "Original Dimensions :  (118, 136, 3)\n",
            "returned size (81, 72, 3)\n",
            "Original Dimensions :  (84, 71, 3)\n",
            "returned size (81, 72, 3)\n",
            "Original Dimensions :  (407, 310, 3)\n",
            "returned size (81, 72, 3)\n",
            "Original Dimensions :  (20, 20, 3)\n",
            "returned size (81, 72, 3)\n",
            "Original Dimensions :  (34, 29, 3)\n",
            "returned size (81, 72, 3)\n",
            "Original Dimensions :  (19, 20, 3)\n",
            "returned size (81, 72, 3)\n",
            "Original Dimensions :  (60, 63, 3)\n",
            "returned size (81, 72, 3)\n",
            "Original Dimensions :  (42, 31, 3)\n",
            "returned size (81, 72, 3)\n",
            "Original Dimensions :  (41, 48, 3)\n",
            "returned size (81, 72, 3)\n",
            "Original Dimensions :  (42, 34, 3)\n",
            "returned size (81, 72, 3)\n",
            "Original Dimensions :  (28, 28, 3)\n",
            "returned size (81, 72, 3)\n",
            "Original Dimensions :  (17, 16, 3)\n",
            "returned size (81, 72, 3)\n",
            "Original Dimensions :  (26, 27, 3)\n",
            "returned size (81, 72, 3)\n",
            "Original Dimensions :  (133, 99, 3)\n",
            "returned size (81, 72, 3)\n",
            "Original Dimensions :  (63, 44, 3)\n",
            "returned size (81, 72, 3)\n",
            "Original Dimensions :  (74, 65, 3)\n",
            "returned size (81, 72, 3)\n",
            "Original Dimensions :  (186, 142, 3)\n",
            "returned size (81, 72, 3)\n",
            "Original Dimensions :  (28, 29, 3)\n",
            "returned size (81, 72, 3)\n",
            "Original Dimensions :  (16, 15, 3)\n",
            "returned size (81, 72, 3)\n",
            "Original Dimensions :  (19, 18, 3)\n",
            "returned size (81, 72, 3)\n",
            "Original Dimensions :  (87, 68, 4)\n",
            "returned size (81, 72, 4)\n",
            "Original Dimensions :  (70, 74, 3)\n",
            "returned size (81, 72, 3)\n",
            "Original Dimensions :  (31, 28, 3)\n",
            "returned size (81, 72, 3)\n",
            "Original Dimensions :  (65, 61, 3)\n",
            "returned size (81, 72, 3)\n",
            "Original Dimensions :  (53, 49, 3)\n",
            "returned size (81, 72, 3)\n",
            "Original Dimensions :  (67, 75, 3)\n",
            "returned size (81, 72, 3)\n",
            "Original Dimensions :  (23, 22, 3)\n",
            "returned size (81, 72, 3)\n",
            "Original Dimensions :  (234, 223, 3)\n",
            "returned size (81, 72, 3)\n",
            "Original Dimensions :  (35, 40, 3)\n",
            "returned size (81, 72, 3)\n",
            "Original Dimensions :  (27, 40, 3)\n",
            "returned size (81, 72, 3)\n",
            "Original Dimensions :  (33, 32, 3)\n",
            "returned size (81, 72, 3)\n",
            "Original Dimensions :  (35, 38, 3)\n",
            "returned size (81, 72, 3)\n",
            "Original Dimensions :  (24, 25, 3)\n",
            "returned size (81, 72, 3)\n",
            "Original Dimensions :  (323, 299, 3)\n",
            "returned size (81, 72, 3)\n",
            "Original Dimensions :  (94, 85, 3)\n",
            "returned size (81, 72, 3)\n",
            "Original Dimensions :  (79, 85, 3)\n",
            "returned size (81, 72, 3)\n",
            "Original Dimensions :  (85, 87, 3)\n",
            "returned size (81, 72, 3)\n",
            "Original Dimensions :  (89, 95, 3)\n",
            "returned size (81, 72, 3)\n",
            "Original Dimensions :  (103, 87, 3)\n",
            "returned size (81, 72, 3)\n",
            "Original Dimensions :  (89, 87, 3)\n",
            "returned size (81, 72, 3)\n",
            "Original Dimensions :  (49, 41, 3)\n",
            "returned size (81, 72, 3)\n",
            "Original Dimensions :  (225, 253, 3)\n",
            "returned size (81, 72, 3)\n",
            "Original Dimensions :  (28, 33, 3)\n",
            "returned size (81, 72, 3)\n",
            "Original Dimensions :  (29, 33, 3)\n",
            "returned size (81, 72, 3)\n",
            "Original Dimensions :  (45, 52, 3)\n",
            "returned size (81, 72, 3)\n",
            "Original Dimensions :  (27, 30, 3)\n",
            "returned size (81, 72, 3)\n",
            "Original Dimensions :  (29, 27, 3)\n",
            "returned size (81, 72, 3)\n",
            "Original Dimensions :  (20, 12, 3)\n",
            "returned size (81, 72, 3)\n",
            "Original Dimensions :  (121, 118, 3)\n",
            "returned size (81, 72, 3)\n",
            "Original Dimensions :  (95, 116, 3)\n",
            "returned size (81, 72, 3)\n",
            "Original Dimensions :  (132, 131, 3)\n",
            "returned size (81, 72, 3)\n",
            "Original Dimensions :  (34, 30, 3)\n",
            "returned size (81, 72, 3)\n",
            "Original Dimensions :  (37, 27, 3)\n",
            "returned size (81, 72, 3)\n",
            "Original Dimensions :  (16, 17, 3)\n",
            "returned size (81, 72, 3)\n",
            "Original Dimensions :  (18, 16, 3)\n",
            "returned size (81, 72, 3)\n",
            "Original Dimensions :  (108, 110, 3)\n",
            "returned size (81, 72, 3)\n",
            "Original Dimensions :  (55, 50, 3)\n",
            "returned size (81, 72, 3)\n",
            "Original Dimensions :  (87, 69, 3)\n",
            "returned size (81, 72, 3)\n",
            "Original Dimensions :  (72, 62, 3)\n",
            "returned size (81, 72, 3)\n",
            "Original Dimensions :  (106, 101, 3)\n",
            "returned size (81, 72, 3)\n",
            "Original Dimensions :  (37, 35, 3)\n",
            "returned size (81, 72, 3)\n",
            "Original Dimensions :  (20, 18, 3)\n",
            "returned size (81, 72, 3)\n",
            "Original Dimensions :  (28, 22, 3)\n",
            "returned size (81, 72, 3)\n",
            "Original Dimensions :  (49, 38, 3)\n",
            "returned size (81, 72, 3)\n",
            "Original Dimensions :  (108, 105, 3)\n",
            "returned size (81, 72, 3)\n",
            "Original Dimensions :  (403, 339, 3)\n",
            "returned size (81, 72, 3)\n",
            "Original Dimensions :  (178, 154, 3)\n",
            "returned size (81, 72, 3)\n",
            "Original Dimensions :  (275, 139, 3)\n",
            "returned size (81, 72, 3)\n",
            "Original Dimensions :  (275, 139, 3)\n",
            "returned size (81, 72, 3)\n",
            "Original Dimensions :  (294, 331, 3)\n",
            "returned size (81, 72, 3)\n",
            "Original Dimensions :  (507, 401, 3)\n",
            "returned size (81, 72, 3)\n",
            "Original Dimensions :  (36, 29, 3)\n",
            "returned size (81, 72, 3)\n",
            "Original Dimensions :  (24, 28, 3)\n",
            "returned size (81, 72, 3)\n",
            "Original Dimensions :  (19, 19, 3)\n",
            "returned size (81, 72, 3)\n",
            "Original Dimensions :  (19, 19, 3)\n",
            "returned size (81, 72, 3)\n",
            "Original Dimensions :  (37, 42, 3)\n",
            "returned size (81, 72, 3)\n",
            "Original Dimensions :  (47, 64, 3)\n",
            "returned size (81, 72, 3)\n",
            "Original Dimensions :  (29, 35, 3)\n",
            "returned size (81, 72, 3)\n",
            "Original Dimensions :  (171, 142, 3)\n",
            "returned size (81, 72, 3)\n",
            "Original Dimensions :  (138, 120, 3)\n",
            "returned size (81, 72, 3)\n",
            "Original Dimensions :  (72, 61, 3)\n",
            "returned size (81, 72, 3)\n",
            "Original Dimensions :  (120, 98, 3)\n",
            "returned size (81, 72, 3)\n",
            "Original Dimensions :  (56, 48, 3)\n",
            "returned size (81, 72, 3)\n",
            "Original Dimensions :  (58, 62, 3)\n",
            "returned size (81, 72, 3)\n",
            "Original Dimensions :  (85, 82, 3)\n",
            "returned size (81, 72, 3)\n",
            "Original Dimensions :  (85, 62, 3)\n",
            "returned size (81, 72, 3)\n",
            "Original Dimensions :  (34, 37, 3)\n",
            "returned size (81, 72, 3)\n",
            "Original Dimensions :  (24, 19, 3)\n",
            "returned size (81, 72, 3)\n",
            "Original Dimensions :  (54, 46, 3)\n",
            "returned size (81, 72, 3)\n",
            "Original Dimensions :  (59, 45, 3)\n",
            "returned size (81, 72, 3)\n",
            "Original Dimensions :  (61, 56, 3)\n",
            "returned size (81, 72, 3)\n",
            "Original Dimensions :  (242, 204, 3)\n",
            "returned size (81, 72, 3)\n",
            "Original Dimensions :  (111, 141, 3)\n",
            "returned size (81, 72, 3)\n",
            "Original Dimensions :  (60, 53, 3)\n",
            "returned size (81, 72, 3)\n",
            "Original Dimensions :  (71, 71, 3)\n",
            "returned size (81, 72, 3)\n",
            "Original Dimensions :  (76, 59, 3)\n",
            "returned size (81, 72, 3)\n",
            "Original Dimensions :  (81, 85, 3)\n",
            "returned size (81, 72, 3)\n",
            "Original Dimensions :  (32, 28, 3)\n",
            "returned size (81, 72, 3)\n",
            "Original Dimensions :  (47, 51, 3)\n",
            "returned size (81, 72, 3)\n",
            "Original Dimensions :  (38, 29, 3)\n",
            "returned size (81, 72, 3)\n",
            "Original Dimensions :  (20, 20, 3)\n",
            "returned size (81, 72, 3)\n",
            "Original Dimensions :  (21, 26, 3)\n",
            "returned size (81, 72, 3)\n",
            "Original Dimensions :  (30, 30, 3)\n",
            "returned size (81, 72, 3)\n",
            "Original Dimensions :  (21, 20, 3)\n",
            "returned size (81, 72, 3)\n",
            "Original Dimensions :  (17, 14, 3)\n",
            "returned size (81, 72, 3)\n",
            "Original Dimensions :  (436, 410, 3)\n",
            "returned size (81, 72, 3)\n",
            "Original Dimensions :  (404, 356, 3)\n",
            "returned size (81, 72, 3)\n",
            "Original Dimensions :  (33, 28, 3)\n",
            "returned size (81, 72, 3)\n",
            "Original Dimensions :  (344, 276, 3)\n",
            "returned size (81, 72, 3)\n",
            "Original Dimensions :  (40, 38, 3)\n",
            "returned size (81, 72, 3)\n",
            "Original Dimensions :  (35, 49, 3)\n",
            "returned size (81, 72, 3)\n",
            "Original Dimensions :  (90, 71, 3)\n",
            "returned size (81, 72, 3)\n",
            "Original Dimensions :  (50, 42, 3)\n",
            "returned size (81, 72, 3)\n",
            "Original Dimensions :  (59, 49, 3)\n",
            "returned size (81, 72, 3)\n",
            "Original Dimensions :  (131, 100, 3)\n",
            "returned size (81, 72, 3)\n",
            "Original Dimensions :  (35, 34, 3)\n",
            "returned size (81, 72, 3)\n",
            "Original Dimensions :  (48, 57, 3)\n",
            "returned size (81, 72, 3)\n",
            "Original Dimensions :  (74, 83, 3)\n",
            "returned size (81, 72, 3)\n",
            "Original Dimensions :  (49, 49, 3)\n",
            "returned size (81, 72, 3)\n",
            "Original Dimensions :  (64, 63, 3)\n",
            "returned size (81, 72, 3)\n",
            "Original Dimensions :  (68, 37, 3)\n",
            "returned size (81, 72, 3)\n",
            "Original Dimensions :  (101, 93, 3)\n",
            "returned size (81, 72, 3)\n",
            "Original Dimensions :  (36, 43, 3)\n",
            "returned size (81, 72, 3)\n",
            "Original Dimensions :  (27, 19, 3)\n",
            "returned size (81, 72, 3)\n",
            "Original Dimensions :  (28, 26, 3)\n",
            "returned size (81, 72, 3)\n",
            "Original Dimensions :  (58, 42, 3)\n",
            "returned size (81, 72, 3)\n",
            "Original Dimensions :  (23, 20, 3)\n",
            "returned size (81, 72, 3)\n",
            "Original Dimensions :  (17, 20, 3)\n",
            "returned size (81, 72, 3)\n",
            "Original Dimensions :  (24, 22, 3)\n",
            "returned size (81, 72, 3)\n",
            "Original Dimensions :  (36, 37, 3)\n",
            "returned size (81, 72, 3)\n",
            "Original Dimensions :  (56, 49, 3)\n",
            "returned size (81, 72, 3)\n",
            "Original Dimensions :  (89, 66, 3)\n",
            "returned size (81, 72, 3)\n",
            "Original Dimensions :  (129, 99, 3)\n",
            "returned size (81, 72, 3)\n",
            "Original Dimensions :  (109, 103, 3)\n",
            "returned size (81, 72, 3)\n",
            "Original Dimensions :  (39, 40, 3)\n",
            "returned size (81, 72, 3)\n",
            "Original Dimensions :  (38, 30, 3)\n",
            "returned size (81, 72, 3)\n",
            "Original Dimensions :  (54, 41, 3)\n",
            "returned size (81, 72, 3)\n",
            "Original Dimensions :  (61, 48, 3)\n",
            "returned size (81, 72, 3)\n",
            "Original Dimensions :  (52, 45, 3)\n",
            "returned size (81, 72, 3)\n",
            "Original Dimensions :  (37, 52, 3)\n",
            "returned size (81, 72, 3)\n",
            "Original Dimensions :  (117, 76, 3)\n",
            "returned size (81, 72, 3)\n",
            "Original Dimensions :  (69, 57, 3)\n",
            "returned size (81, 72, 3)\n",
            "Original Dimensions :  (76, 67, 3)\n",
            "returned size (81, 72, 3)\n",
            "Original Dimensions :  (85, 98, 3)\n",
            "returned size (81, 72, 3)\n",
            "Original Dimensions :  (53, 51, 3)\n",
            "returned size (81, 72, 3)\n",
            "Original Dimensions :  (368, 253, 3)\n",
            "returned size (81, 72, 3)\n"
          ],
          "name": "stdout"
        }
      ]
    },
    {
      "cell_type": "code",
      "metadata": {
        "id": "m67f1MyoizIJ",
        "colab_type": "code",
        "outputId": "62485fee-2313-442a-a391-bb7c4963aca5",
        "colab": {
          "base_uri": "https://localhost:8080/",
          "height": 1000
        }
      },
      "source": [
        "train_X = np.array([getnewimg(i) for i in pic_ethn])"
      ],
      "execution_count": 20,
      "outputs": [
        {
          "output_type": "stream",
          "text": [
            "Original Dimensions :  (169, 164, 3)\n",
            "returned size (81, 72, 3)\n",
            "Original Dimensions :  (154, 174, 3)\n",
            "returned size (81, 72, 3)\n",
            "Original Dimensions :  (77, 79, 3)\n",
            "returned size (81, 72, 3)\n",
            "Original Dimensions :  (83, 73, 3)\n",
            "returned size (81, 72, 3)\n",
            "Original Dimensions :  (71, 75, 3)\n",
            "returned size (81, 72, 3)\n",
            "Original Dimensions :  (19, 17, 3)\n",
            "returned size (81, 72, 3)\n",
            "Original Dimensions :  (15, 15, 3)\n",
            "returned size (81, 72, 3)\n",
            "Original Dimensions :  (13, 10, 3)\n",
            "returned size (81, 72, 3)\n",
            "Original Dimensions :  (18, 12, 3)\n",
            "returned size (81, 72, 3)\n",
            "Original Dimensions :  (26, 34, 3)\n",
            "returned size (81, 72, 3)\n",
            "Original Dimensions :  (17, 20, 3)\n",
            "returned size (81, 72, 3)\n",
            "Original Dimensions :  (35, 36, 3)\n",
            "returned size (81, 72, 3)\n",
            "Original Dimensions :  (15, 14, 3)\n",
            "returned size (81, 72, 3)\n",
            "Original Dimensions :  (88, 57, 3)\n",
            "returned size (81, 72, 3)\n",
            "Original Dimensions :  (90, 84, 3)\n",
            "returned size (81, 72, 3)\n",
            "Original Dimensions :  (91, 66, 3)\n",
            "returned size (81, 72, 3)\n",
            "Original Dimensions :  (279, 224, 3)\n",
            "returned size (81, 72, 3)\n",
            "Original Dimensions :  (19, 20)\n",
            "Modified Original Dimensions :  (19, 20, 3)\n",
            "returned size (81, 72, 3)\n",
            "Original Dimensions :  (14, 13, 3)\n",
            "returned size (81, 72, 3)\n",
            "Original Dimensions :  (8, 9, 3)\n",
            "returned size (81, 72, 3)\n",
            "Original Dimensions :  (23, 16, 3)\n",
            "returned size (81, 72, 3)\n",
            "Original Dimensions :  (85, 61, 3)\n",
            "returned size (81, 72, 3)\n",
            "Original Dimensions :  (133, 111, 3)\n",
            "returned size (81, 72, 3)\n",
            "Original Dimensions :  (30, 21, 3)\n",
            "returned size (81, 72, 3)\n",
            "Original Dimensions :  (213, 223, 3)\n",
            "returned size (81, 72, 3)\n",
            "Original Dimensions :  (98, 94, 3)\n",
            "returned size (81, 72, 3)\n",
            "Original Dimensions :  (164, 158)\n",
            "Modified Original Dimensions :  (164, 158, 3)\n",
            "returned size (81, 72, 3)\n",
            "Original Dimensions :  (48, 45, 3)\n",
            "returned size (81, 72, 3)\n",
            "Original Dimensions :  (112, 108, 3)\n",
            "returned size (81, 72, 3)\n",
            "Original Dimensions :  (25, 22, 3)\n",
            "returned size (81, 72, 3)\n",
            "Original Dimensions :  (13, 11, 3)\n",
            "returned size (81, 72, 3)\n",
            "Original Dimensions :  (16, 18, 3)\n",
            "returned size (81, 72, 3)\n",
            "Original Dimensions :  (34, 24, 3)\n",
            "returned size (81, 72, 3)\n",
            "Original Dimensions :  (36, 29, 3)\n",
            "returned size (81, 72, 3)\n",
            "Original Dimensions :  (18, 17, 3)\n",
            "returned size (81, 72, 3)\n",
            "Original Dimensions :  (22, 17, 3)\n",
            "returned size (81, 72, 3)\n",
            "Original Dimensions :  (12, 9, 3)\n",
            "returned size (81, 72, 3)\n",
            "Original Dimensions :  (21, 18, 3)\n",
            "returned size (81, 72, 3)\n",
            "Original Dimensions :  (14, 14, 3)\n",
            "returned size (81, 72, 3)\n",
            "Original Dimensions :  (11, 10, 3)\n",
            "returned size (81, 72, 3)\n",
            "Original Dimensions :  (170, 131, 3)\n",
            "returned size (81, 72, 3)\n",
            "Original Dimensions :  (118, 96, 3)\n",
            "returned size (81, 72, 3)\n",
            "Original Dimensions :  (82, 78, 3)\n",
            "returned size (81, 72, 3)\n",
            "Original Dimensions :  (174, 130, 3)\n",
            "returned size (81, 72, 3)\n",
            "Original Dimensions :  (189, 166, 3)\n",
            "returned size (81, 72, 3)\n",
            "Original Dimensions :  (57, 51, 3)\n",
            "returned size (81, 72, 3)\n",
            "Original Dimensions :  (70, 59, 3)\n",
            "returned size (81, 72, 3)\n",
            "Original Dimensions :  (66, 67, 3)\n",
            "returned size (81, 72, 3)\n",
            "Original Dimensions :  (33, 40, 3)\n",
            "returned size (81, 72, 3)\n",
            "Original Dimensions :  (39, 36, 3)\n",
            "returned size (81, 72, 3)\n",
            "Original Dimensions :  (187, 148, 3)\n",
            "returned size (81, 72, 3)\n",
            "Original Dimensions :  (140, 125, 3)\n",
            "returned size (81, 72, 3)\n",
            "Original Dimensions :  (118, 136, 3)\n",
            "returned size (81, 72, 3)\n",
            "Original Dimensions :  (84, 71, 3)\n",
            "returned size (81, 72, 3)\n",
            "Original Dimensions :  (407, 310, 3)\n",
            "returned size (81, 72, 3)\n",
            "Original Dimensions :  (20, 20, 3)\n",
            "returned size (81, 72, 3)\n",
            "Original Dimensions :  (34, 29, 3)\n",
            "returned size (81, 72, 3)\n",
            "Original Dimensions :  (19, 20, 3)\n",
            "returned size (81, 72, 3)\n",
            "Original Dimensions :  (60, 63, 3)\n",
            "returned size (81, 72, 3)\n",
            "Original Dimensions :  (42, 31, 3)\n",
            "returned size (81, 72, 3)\n",
            "Original Dimensions :  (41, 48, 3)\n",
            "returned size (81, 72, 3)\n",
            "Original Dimensions :  (42, 34, 3)\n",
            "returned size (81, 72, 3)\n",
            "Original Dimensions :  (28, 28, 3)\n",
            "returned size (81, 72, 3)\n",
            "Original Dimensions :  (17, 16, 3)\n",
            "returned size (81, 72, 3)\n",
            "Original Dimensions :  (26, 27, 3)\n",
            "returned size (81, 72, 3)\n",
            "Original Dimensions :  (133, 99, 3)\n",
            "returned size (81, 72, 3)\n",
            "Original Dimensions :  (63, 44, 3)\n",
            "returned size (81, 72, 3)\n",
            "Original Dimensions :  (74, 65, 3)\n",
            "returned size (81, 72, 3)\n",
            "Original Dimensions :  (186, 142, 3)\n",
            "returned size (81, 72, 3)\n",
            "Original Dimensions :  (28, 29, 3)\n",
            "returned size (81, 72, 3)\n",
            "Original Dimensions :  (16, 15, 3)\n",
            "returned size (81, 72, 3)\n",
            "Original Dimensions :  (19, 18, 3)\n",
            "returned size (81, 72, 3)\n",
            "Original Dimensions :  (87, 68, 4)\n",
            "returned size (81, 72, 4)\n",
            "Original Dimensions :  (70, 74, 3)\n",
            "returned size (81, 72, 3)\n",
            "Original Dimensions :  (31, 28, 3)\n",
            "returned size (81, 72, 3)\n",
            "Original Dimensions :  (65, 61, 3)\n",
            "returned size (81, 72, 3)\n",
            "Original Dimensions :  (53, 49, 3)\n",
            "returned size (81, 72, 3)\n",
            "Original Dimensions :  (67, 75, 3)\n",
            "returned size (81, 72, 3)\n",
            "Original Dimensions :  (23, 22, 3)\n",
            "returned size (81, 72, 3)\n",
            "Original Dimensions :  (234, 223, 3)\n",
            "returned size (81, 72, 3)\n",
            "Original Dimensions :  (35, 40, 3)\n",
            "returned size (81, 72, 3)\n",
            "Original Dimensions :  (27, 40, 3)\n",
            "returned size (81, 72, 3)\n",
            "Original Dimensions :  (33, 32, 3)\n",
            "returned size (81, 72, 3)\n",
            "Original Dimensions :  (35, 38, 3)\n",
            "returned size (81, 72, 3)\n",
            "Original Dimensions :  (24, 25, 3)\n",
            "returned size (81, 72, 3)\n",
            "Original Dimensions :  (323, 299, 3)\n",
            "returned size (81, 72, 3)\n",
            "Original Dimensions :  (94, 85, 3)\n",
            "returned size (81, 72, 3)\n",
            "Original Dimensions :  (79, 85, 3)\n",
            "returned size (81, 72, 3)\n",
            "Original Dimensions :  (85, 87, 3)\n",
            "returned size (81, 72, 3)\n",
            "Original Dimensions :  (89, 95, 3)\n",
            "returned size (81, 72, 3)\n",
            "Original Dimensions :  (103, 87, 3)\n",
            "returned size (81, 72, 3)\n",
            "Original Dimensions :  (89, 87, 3)\n",
            "returned size (81, 72, 3)\n",
            "Original Dimensions :  (49, 41, 3)\n",
            "returned size (81, 72, 3)\n",
            "Original Dimensions :  (225, 253, 3)\n",
            "returned size (81, 72, 3)\n",
            "Original Dimensions :  (28, 33, 3)\n",
            "returned size (81, 72, 3)\n",
            "Original Dimensions :  (29, 33, 3)\n",
            "returned size (81, 72, 3)\n",
            "Original Dimensions :  (45, 52, 3)\n",
            "returned size (81, 72, 3)\n",
            "Original Dimensions :  (27, 30, 3)\n",
            "returned size (81, 72, 3)\n",
            "Original Dimensions :  (29, 27, 3)\n",
            "returned size (81, 72, 3)\n",
            "Original Dimensions :  (20, 12, 3)\n",
            "returned size (81, 72, 3)\n",
            "Original Dimensions :  (121, 118, 3)\n",
            "returned size (81, 72, 3)\n",
            "Original Dimensions :  (95, 116, 3)\n",
            "returned size (81, 72, 3)\n",
            "Original Dimensions :  (132, 131, 3)\n",
            "returned size (81, 72, 3)\n",
            "Original Dimensions :  (34, 30, 3)\n",
            "returned size (81, 72, 3)\n",
            "Original Dimensions :  (37, 27, 3)\n",
            "returned size (81, 72, 3)\n",
            "Original Dimensions :  (16, 17, 3)\n",
            "returned size (81, 72, 3)\n",
            "Original Dimensions :  (18, 16, 3)\n",
            "returned size (81, 72, 3)\n",
            "Original Dimensions :  (108, 110, 3)\n",
            "returned size (81, 72, 3)\n",
            "Original Dimensions :  (55, 50, 3)\n",
            "returned size (81, 72, 3)\n",
            "Original Dimensions :  (87, 69, 3)\n",
            "returned size (81, 72, 3)\n",
            "Original Dimensions :  (72, 62, 3)\n",
            "returned size (81, 72, 3)\n",
            "Original Dimensions :  (106, 101, 3)\n",
            "returned size (81, 72, 3)\n",
            "Original Dimensions :  (37, 35, 3)\n",
            "returned size (81, 72, 3)\n",
            "Original Dimensions :  (20, 18, 3)\n",
            "returned size (81, 72, 3)\n",
            "Original Dimensions :  (28, 22, 3)\n",
            "returned size (81, 72, 3)\n",
            "Original Dimensions :  (49, 38, 3)\n",
            "returned size (81, 72, 3)\n",
            "Original Dimensions :  (108, 105, 3)\n",
            "returned size (81, 72, 3)\n",
            "Original Dimensions :  (403, 339, 3)\n",
            "returned size (81, 72, 3)\n",
            "Original Dimensions :  (178, 154, 3)\n",
            "returned size (81, 72, 3)\n",
            "Original Dimensions :  (275, 139, 3)\n",
            "returned size (81, 72, 3)\n",
            "Original Dimensions :  (275, 139, 3)\n",
            "returned size (81, 72, 3)\n",
            "Original Dimensions :  (294, 331, 3)\n",
            "returned size (81, 72, 3)\n",
            "Original Dimensions :  (507, 401, 3)\n",
            "returned size (81, 72, 3)\n",
            "Original Dimensions :  (36, 29, 3)\n",
            "returned size (81, 72, 3)\n",
            "Original Dimensions :  (24, 28, 3)\n",
            "returned size (81, 72, 3)\n",
            "Original Dimensions :  (19, 19, 3)\n",
            "returned size (81, 72, 3)\n",
            "Original Dimensions :  (19, 19, 3)\n",
            "returned size (81, 72, 3)\n",
            "Original Dimensions :  (37, 42, 3)\n",
            "returned size (81, 72, 3)\n",
            "Original Dimensions :  (47, 64, 3)\n",
            "returned size (81, 72, 3)\n",
            "Original Dimensions :  (29, 35, 3)\n",
            "returned size (81, 72, 3)\n",
            "Original Dimensions :  (171, 142, 3)\n",
            "returned size (81, 72, 3)\n",
            "Original Dimensions :  (138, 120, 3)\n",
            "returned size (81, 72, 3)\n",
            "Original Dimensions :  (72, 61, 3)\n",
            "returned size (81, 72, 3)\n",
            "Original Dimensions :  (120, 98, 3)\n",
            "returned size (81, 72, 3)\n",
            "Original Dimensions :  (56, 48, 3)\n",
            "returned size (81, 72, 3)\n",
            "Original Dimensions :  (58, 62, 3)\n",
            "returned size (81, 72, 3)\n",
            "Original Dimensions :  (85, 82, 3)\n",
            "returned size (81, 72, 3)\n",
            "Original Dimensions :  (85, 62, 3)\n",
            "returned size (81, 72, 3)\n",
            "Original Dimensions :  (34, 37, 3)\n",
            "returned size (81, 72, 3)\n",
            "Original Dimensions :  (24, 19, 3)\n",
            "returned size (81, 72, 3)\n",
            "Original Dimensions :  (54, 46, 3)\n",
            "returned size (81, 72, 3)\n",
            "Original Dimensions :  (59, 45, 3)\n",
            "returned size (81, 72, 3)\n",
            "Original Dimensions :  (61, 56, 3)\n",
            "returned size (81, 72, 3)\n",
            "Original Dimensions :  (242, 204, 3)\n",
            "returned size (81, 72, 3)\n",
            "Original Dimensions :  (111, 141, 3)\n",
            "returned size (81, 72, 3)\n",
            "Original Dimensions :  (60, 53, 3)\n",
            "returned size (81, 72, 3)\n",
            "Original Dimensions :  (71, 71, 3)\n",
            "returned size (81, 72, 3)\n",
            "Original Dimensions :  (76, 59, 3)\n",
            "returned size (81, 72, 3)\n",
            "Original Dimensions :  (81, 85, 3)\n",
            "returned size (81, 72, 3)\n",
            "Original Dimensions :  (32, 28, 3)\n",
            "returned size (81, 72, 3)\n",
            "Original Dimensions :  (47, 51, 3)\n",
            "returned size (81, 72, 3)\n",
            "Original Dimensions :  (38, 29, 3)\n",
            "returned size (81, 72, 3)\n",
            "Original Dimensions :  (20, 20, 3)\n",
            "returned size (81, 72, 3)\n",
            "Original Dimensions :  (21, 26, 3)\n",
            "returned size (81, 72, 3)\n",
            "Original Dimensions :  (30, 30, 3)\n",
            "returned size (81, 72, 3)\n",
            "Original Dimensions :  (21, 20, 3)\n",
            "returned size (81, 72, 3)\n",
            "Original Dimensions :  (17, 14, 3)\n",
            "returned size (81, 72, 3)\n",
            "Original Dimensions :  (436, 410, 3)\n",
            "returned size (81, 72, 3)\n",
            "Original Dimensions :  (404, 356, 3)\n",
            "returned size (81, 72, 3)\n",
            "Original Dimensions :  (33, 28, 3)\n",
            "returned size (81, 72, 3)\n",
            "Original Dimensions :  (344, 276, 3)\n",
            "returned size (81, 72, 3)\n",
            "Original Dimensions :  (40, 38, 3)\n",
            "returned size (81, 72, 3)\n",
            "Original Dimensions :  (35, 49, 3)\n",
            "returned size (81, 72, 3)\n",
            "Original Dimensions :  (90, 71, 3)\n",
            "returned size (81, 72, 3)\n",
            "Original Dimensions :  (50, 42, 3)\n",
            "returned size (81, 72, 3)\n",
            "Original Dimensions :  (59, 49, 3)\n",
            "returned size (81, 72, 3)\n",
            "Original Dimensions :  (131, 100, 3)\n",
            "returned size (81, 72, 3)\n",
            "Original Dimensions :  (35, 34, 3)\n",
            "returned size (81, 72, 3)\n",
            "Original Dimensions :  (48, 57, 3)\n",
            "returned size (81, 72, 3)\n",
            "Original Dimensions :  (74, 83, 3)\n",
            "returned size (81, 72, 3)\n",
            "Original Dimensions :  (49, 49, 3)\n",
            "returned size (81, 72, 3)\n",
            "Original Dimensions :  (64, 63, 3)\n",
            "returned size (81, 72, 3)\n",
            "Original Dimensions :  (68, 37, 3)\n",
            "returned size (81, 72, 3)\n",
            "Original Dimensions :  (101, 93, 3)\n",
            "returned size (81, 72, 3)\n",
            "Original Dimensions :  (36, 43, 3)\n",
            "returned size (81, 72, 3)\n",
            "Original Dimensions :  (27, 19, 3)\n",
            "returned size (81, 72, 3)\n",
            "Original Dimensions :  (28, 26, 3)\n",
            "returned size (81, 72, 3)\n",
            "Original Dimensions :  (58, 42, 3)\n",
            "returned size (81, 72, 3)\n",
            "Original Dimensions :  (23, 20, 3)\n",
            "returned size (81, 72, 3)\n",
            "Original Dimensions :  (17, 20, 3)\n",
            "returned size (81, 72, 3)\n",
            "Original Dimensions :  (24, 22, 3)\n",
            "returned size (81, 72, 3)\n",
            "Original Dimensions :  (36, 37, 3)\n",
            "returned size (81, 72, 3)\n",
            "Original Dimensions :  (56, 49, 3)\n",
            "returned size (81, 72, 3)\n",
            "Original Dimensions :  (89, 66, 3)\n",
            "returned size (81, 72, 3)\n",
            "Original Dimensions :  (129, 99, 3)\n",
            "returned size (81, 72, 3)\n",
            "Original Dimensions :  (109, 103, 3)\n",
            "returned size (81, 72, 3)\n",
            "Original Dimensions :  (39, 40, 3)\n",
            "returned size (81, 72, 3)\n",
            "Original Dimensions :  (38, 30, 3)\n",
            "returned size (81, 72, 3)\n",
            "Original Dimensions :  (54, 41, 3)\n",
            "returned size (81, 72, 3)\n",
            "Original Dimensions :  (61, 48, 3)\n",
            "returned size (81, 72, 3)\n",
            "Original Dimensions :  (52, 45, 3)\n",
            "returned size (81, 72, 3)\n",
            "Original Dimensions :  (37, 52, 3)\n",
            "returned size (81, 72, 3)\n",
            "Original Dimensions :  (117, 76, 3)\n",
            "returned size (81, 72, 3)\n",
            "Original Dimensions :  (69, 57, 3)\n",
            "returned size (81, 72, 3)\n",
            "Original Dimensions :  (76, 67, 3)\n",
            "returned size (81, 72, 3)\n",
            "Original Dimensions :  (85, 98, 3)\n",
            "returned size (81, 72, 3)\n",
            "Original Dimensions :  (53, 51, 3)\n",
            "returned size (81, 72, 3)\n",
            "Original Dimensions :  (368, 253, 3)\n",
            "returned size (81, 72, 3)\n"
          ],
          "name": "stdout"
        }
      ]
    },
    {
      "cell_type": "code",
      "metadata": {
        "id": "EGvcaD7d2Ymv",
        "colab_type": "code",
        "outputId": "915e0556-0b93-4d10-eb9e-4350c05b4887",
        "colab": {
          "base_uri": "https://localhost:8080/",
          "height": 286
        }
      },
      "source": [
        "plt.imshow(pic_ethn[183])"
      ],
      "execution_count": 21,
      "outputs": [
        {
          "output_type": "execute_result",
          "data": {
            "text/plain": [
              "<matplotlib.image.AxesImage at 0x7f700f378668>"
            ]
          },
          "metadata": {
            "tags": []
          },
          "execution_count": 21
        },
        {
          "output_type": "display_data",
          "data": {
            "image/png": "[encoded data removed]",
            "text/plain": [
              "<Figure size 432x288 with 1 Axes>"
            ]
          },
          "metadata": {
            "tags": []
          }
        }
      ]
    },
    {
      "cell_type": "code",
      "metadata": {
        "id": "KClT-2IBdF9y",
        "colab_type": "code",
        "outputId": "7c564311-4903-408c-f63b-288560a7314e",
        "colab": {
          "base_uri": "https://localhost:8080/",
          "height": 34
        }
      },
      "source": [
        "y = []\n",
        "p = list(set(lab_ethn))\n",
        "print(p)\n",
        "for i in lab_ethn:\n",
        "    y.append(p.index(i))"
      ],
      "execution_count": 22,
      "outputs": [
        {
          "output_type": "stream",
          "text": [
            "['E_Hispanic', 'E_Indian', 'E_Black', 'E_Asian', 'E_Arab', 'E_White']\n"
          ],
          "name": "stdout"
        }
      ]
    },
    {
      "cell_type": "code",
      "metadata": {
        "id": "qLMuHrVOi8Vc",
        "colab_type": "code",
        "outputId": "cb666cc7-2cc5-490f-ae5c-a38bd866f07b",
        "colab": {
          "base_uri": "https://localhost:8080/",
          "height": 34
        }
      },
      "source": [
        "np.shape(y)"
      ],
      "execution_count": 23,
      "outputs": [
        {
          "output_type": "execute_result",
          "data": {
            "text/plain": [
              "(198,)"
            ]
          },
          "metadata": {
            "tags": []
          },
          "execution_count": 23
        }
      ]
    },
    {
      "cell_type": "code",
      "metadata": {
        "id": "2tQCgt99dF5I",
        "colab_type": "code",
        "outputId": "412115c7-10a9-4732-8d78-d0d537b1876c",
        "colab": {
          "base_uri": "https://localhost:8080/",
          "height": 34
        }
      },
      "source": [
        "import keras"
      ],
      "execution_count": 24,
      "outputs": [
        {
          "output_type": "stream",
          "text": [
            "Using TensorFlow backend.\n"
          ],
          "name": "stderr"
        }
      ]
    },
    {
      "cell_type": "code",
      "metadata": {
        "id": "l_5Y4DT2dF3o",
        "colab_type": "code",
        "colab": {}
      },
      "source": [
        "from keras.models import Sequential, Model \n",
        "from keras.layers import Dropout, Flatten, Dense, GlobalAveragePooling2D\n",
        "from keras.datasets import mnist"
      ],
      "execution_count": 0,
      "outputs": []
    },
    {
      "cell_type": "code",
      "metadata": {
        "id": "nln7QiwLdFyN",
        "colab_type": "code",
        "colab": {}
      },
      "source": [
        "from keras import applications"
      ],
      "execution_count": 0,
      "outputs": []
    },
    {
      "cell_type": "code",
      "metadata": {
        "id": "3p-NhNMWdFwH",
        "colab_type": "code",
        "colab": {}
      },
      "source": [
        "model = applications.VGG19(weights = \"imagenet\", include_top=False, input_shape = (train_X.shape[1], train_X.shape[2], 3))"
      ],
      "execution_count": 0,
      "outputs": []
    },
    {
      "cell_type": "code",
      "metadata": {
        "id": "gfGP2IdbdFuM",
        "colab_type": "code",
        "outputId": "4a82627e-b796-4895-92e1-2844da5477c1",
        "colab": {
          "base_uri": "https://localhost:8080/",
          "height": 544
        }
      },
      "source": [
        "import tensorflow as tf\n",
        "sess = tf.Session(config=tf.ConfigProto(log_device_placement=True))\n",
        "from tensorflow.python.client import device_lib\n",
        "print(device_lib.list_local_devices())\n"
      ],
      "execution_count": 28,
      "outputs": [
        {
          "output_type": "stream",
          "text": [
            "[name: \"/device:CPU:0\"\n",
            "device_type: \"CPU\"\n",
            "memory_limit: 268435456\n",
            "locality {\n",
            "}\n",
            "incarnation: 9909703928907168634\n",
            ", name: \"/device:XLA_CPU:0\"\n",
            "device_type: \"XLA_CPU\"\n",
            "memory_limit: 17179869184\n",
            "locality {\n",
            "}\n",
            "incarnation: 6565018894749075258\n",
            "physical_device_desc: \"device: XLA_CPU device\"\n",
            ", name: \"/device:XLA_GPU:0\"\n",
            "device_type: \"XLA_GPU\"\n",
            "memory_limit: 17179869184\n",
            "locality {\n",
            "}\n",
            "incarnation: 2195207079009682114\n",
            "physical_device_desc: \"device: XLA_GPU device\"\n",
            ", name: \"/device:GPU:0\"\n",
            "device_type: \"GPU\"\n",
            "memory_limit: 14912199066\n",
            "locality {\n",
            "  bus_id: 1\n",
            "  links {\n",
            "  }\n",
            "}\n",
            "incarnation: 10830987538045597071\n",
            "physical_device_desc: \"device: 0, name: Tesla T4, pci bus id: 0000:00:04.0, compute capability: 7.5\"\n",
            "]\n"
          ],
          "name": "stdout"
        }
      ]
    },
    {
      "cell_type": "code",
      "metadata": {
        "id": "5HwMO_-QdFrn",
        "colab_type": "code",
        "outputId": "086f5ec2-7cf0-4255-8ac4-e7ef7782d163",
        "colab": {
          "base_uri": "https://localhost:8080/",
          "height": 34
        }
      },
      "source": [
        "from keras import backend as K\n",
        "K.tensorflow_backend._get_available_gpus()"
      ],
      "execution_count": 29,
      "outputs": [
        {
          "output_type": "execute_result",
          "data": {
            "text/plain": [
              "['/job:localhost/replica:0/task:0/device:GPU:0']"
            ]
          },
          "metadata": {
            "tags": []
          },
          "execution_count": 29
        }
      ]
    },
    {
      "cell_type": "code",
      "metadata": {
        "id": "MEdjbw17dFpQ",
        "colab_type": "code",
        "colab": {
          "base_uri": "https://localhost:8080/",
          "height": 34
        },
        "outputId": "604007b0-c782-41e0-89d4-be46a4868199"
      },
      "source": [
        "\"\"\"for layer in model.layers:\n",
        "    layer.trainable = False\n",
        "\"\"\""
      ],
      "execution_count": 102,
      "outputs": [
        {
          "output_type": "execute_result",
          "data": {
            "text/plain": [
              "'for layer in model.layers:\\n    layer.trainable = False\\n'"
            ]
          },
          "metadata": {
            "tags": []
          },
          "execution_count": 102
        }
      ]
    },
    {
      "cell_type": "code",
      "metadata": {
        "id": "GaQ7i9z3dFnN",
        "colab_type": "code",
        "outputId": "29d11716-39ca-4d0e-c2e2-84e613827d4f",
        "colab": {
          "base_uri": "https://localhost:8080/",
          "height": 884
        }
      },
      "source": [
        "model.summary()"
      ],
      "execution_count": 103,
      "outputs": [
        {
          "output_type": "stream",
          "text": [
            "_________________________________________________________________\n",
            "Layer (type)                 Output Shape              Param #   \n",
            "=================================================================\n",
            "input_3 (InputLayer)         (None, 81, 72, 3)         0         \n",
            "_________________________________________________________________\n",
            "block1_conv1 (Conv2D)        (None, 81, 72, 64)        1792      \n",
            "_________________________________________________________________\n",
            "block1_conv2 (Conv2D)        (None, 81, 72, 64)        36928     \n",
            "_________________________________________________________________\n",
            "block1_pool (MaxPooling2D)   (None, 40, 36, 64)        0         \n",
            "_________________________________________________________________\n",
            "block2_conv1 (Conv2D)        (None, 40, 36, 128)       73856     \n",
            "_________________________________________________________________\n",
            "block2_conv2 (Conv2D)        (None, 40, 36, 128)       147584    \n",
            "_________________________________________________________________\n",
            "block2_pool (MaxPooling2D)   (None, 20, 18, 128)       0         \n",
            "_________________________________________________________________\n",
            "block3_conv1 (Conv2D)        (None, 20, 18, 256)       295168    \n",
            "_________________________________________________________________\n",
            "block3_conv2 (Conv2D)        (None, 20, 18, 256)       590080    \n",
            "_________________________________________________________________\n",
            "block3_conv3 (Conv2D)        (None, 20, 18, 256)       590080    \n",
            "_________________________________________________________________\n",
            "block3_conv4 (Conv2D)        (None, 20, 18, 256)       590080    \n",
            "_________________________________________________________________\n",
            "block3_pool (MaxPooling2D)   (None, 10, 9, 256)        0         \n",
            "_________________________________________________________________\n",
            "block4_conv1 (Conv2D)        (None, 10, 9, 512)        1180160   \n",
            "_________________________________________________________________\n",
            "block4_conv2 (Conv2D)        (None, 10, 9, 512)        2359808   \n",
            "_________________________________________________________________\n",
            "block4_conv3 (Conv2D)        (None, 10, 9, 512)        2359808   \n",
            "_________________________________________________________________\n",
            "block4_conv4 (Conv2D)        (None, 10, 9, 512)        2359808   \n",
            "_________________________________________________________________\n",
            "block4_pool (MaxPooling2D)   (None, 5, 4, 512)         0         \n",
            "_________________________________________________________________\n",
            "block5_conv1 (Conv2D)        (None, 5, 4, 512)         2359808   \n",
            "_________________________________________________________________\n",
            "block5_conv2 (Conv2D)        (None, 5, 4, 512)         2359808   \n",
            "_________________________________________________________________\n",
            "block5_conv3 (Conv2D)        (None, 5, 4, 512)         2359808   \n",
            "_________________________________________________________________\n",
            "block5_conv4 (Conv2D)        (None, 5, 4, 512)         2359808   \n",
            "_________________________________________________________________\n",
            "block5_pool (MaxPooling2D)   (None, 2, 2, 512)         0         \n",
            "=================================================================\n",
            "Total params: 20,024,384\n",
            "Trainable params: 20,024,384\n",
            "Non-trainable params: 0\n",
            "_________________________________________________________________\n"
          ],
          "name": "stdout"
        }
      ]
    },
    {
      "cell_type": "code",
      "metadata": {
        "id": "HmXA4qNidFls",
        "colab_type": "code",
        "outputId": "5b2bdc43-1e16-43d0-b250-18275cec6e9b",
        "colab": {
          "base_uri": "https://localhost:8080/",
          "height": 71
        }
      },
      "source": [
        "\n",
        "x = model.output\n",
        "x = Flatten()(x)\n",
        "x = Dense(1024, activation=\"relu\")(x)\n",
        "x = Dropout(0.5)(x)\n",
        "x = Dense(1024, activation=\"relu\")(x)\n",
        "predictions = Dense(6, activation=\"softmax\")(x)\n",
        "model_final = Model(input = model.input, output = predictions)\n",
        "\n",
        "# compile the model \n",
        "model_final.compile(loss = \"categorical_crossentropy\", optimizer = keras.optimizers.SGD(lr=0.0001, momentum=0.9), metrics=[\"accuracy\"])"
      ],
      "execution_count": 104,
      "outputs": [
        {
          "output_type": "stream",
          "text": [
            "/usr/local/lib/python3.6/dist-packages/ipykernel_launcher.py:8: UserWarning: Update your `Model` call to the Keras 2 API: `Model(inputs=Tensor(\"in..., outputs=Tensor(\"de...)`\n",
            "  \n"
          ],
          "name": "stderr"
        }
      ]
    },
    {
      "cell_type": "code",
      "metadata": {
        "id": "je4PGVgn3VU1",
        "colab_type": "code",
        "outputId": "d24d9d3f-cb68-48d1-c0a7-3f27494a830b",
        "colab": {
          "base_uri": "https://localhost:8080/",
          "height": 1000
        }
      },
      "source": [
        "model_final.summary()"
      ],
      "execution_count": 105,
      "outputs": [
        {
          "output_type": "stream",
          "text": [
            "_________________________________________________________________\n",
            "Layer (type)                 Output Shape              Param #   \n",
            "=================================================================\n",
            "input_3 (InputLayer)         (None, 81, 72, 3)         0         \n",
            "_________________________________________________________________\n",
            "block1_conv1 (Conv2D)        (None, 81, 72, 64)        1792      \n",
            "_________________________________________________________________\n",
            "block1_conv2 (Conv2D)        (None, 81, 72, 64)        36928     \n",
            "_________________________________________________________________\n",
            "block1_pool (MaxPooling2D)   (None, 40, 36, 64)        0         \n",
            "_________________________________________________________________\n",
            "block2_conv1 (Conv2D)        (None, 40, 36, 128)       73856     \n",
            "_________________________________________________________________\n",
            "block2_conv2 (Conv2D)        (None, 40, 36, 128)       147584    \n",
            "_________________________________________________________________\n",
            "block2_pool (MaxPooling2D)   (None, 20, 18, 128)       0         \n",
            "_________________________________________________________________\n",
            "block3_conv1 (Conv2D)        (None, 20, 18, 256)       295168    \n",
            "_________________________________________________________________\n",
            "block3_conv2 (Conv2D)        (None, 20, 18, 256)       590080    \n",
            "_________________________________________________________________\n",
            "block3_conv3 (Conv2D)        (None, 20, 18, 256)       590080    \n",
            "_________________________________________________________________\n",
            "block3_conv4 (Conv2D)        (None, 20, 18, 256)       590080    \n",
            "_________________________________________________________________\n",
            "block3_pool (MaxPooling2D)   (None, 10, 9, 256)        0         \n",
            "_________________________________________________________________\n",
            "block4_conv1 (Conv2D)        (None, 10, 9, 512)        1180160   \n",
            "_________________________________________________________________\n",
            "block4_conv2 (Conv2D)        (None, 10, 9, 512)        2359808   \n",
            "_________________________________________________________________\n",
            "block4_conv3 (Conv2D)        (None, 10, 9, 512)        2359808   \n",
            "_________________________________________________________________\n",
            "block4_conv4 (Conv2D)        (None, 10, 9, 512)        2359808   \n",
            "_________________________________________________________________\n",
            "block4_pool (MaxPooling2D)   (None, 5, 4, 512)         0         \n",
            "_________________________________________________________________\n",
            "block5_conv1 (Conv2D)        (None, 5, 4, 512)         2359808   \n",
            "_________________________________________________________________\n",
            "block5_conv2 (Conv2D)        (None, 5, 4, 512)         2359808   \n",
            "_________________________________________________________________\n",
            "block5_conv3 (Conv2D)        (None, 5, 4, 512)         2359808   \n",
            "_________________________________________________________________\n",
            "block5_conv4 (Conv2D)        (None, 5, 4, 512)         2359808   \n",
            "_________________________________________________________________\n",
            "block5_pool (MaxPooling2D)   (None, 2, 2, 512)         0         \n",
            "_________________________________________________________________\n",
            "flatten_4 (Flatten)          (None, 2048)              0         \n",
            "_________________________________________________________________\n",
            "dense_10 (Dense)             (None, 1024)              2098176   \n",
            "_________________________________________________________________\n",
            "dropout_4 (Dropout)          (None, 1024)              0         \n",
            "_________________________________________________________________\n",
            "dense_11 (Dense)             (None, 1024)              1049600   \n",
            "_________________________________________________________________\n",
            "dense_12 (Dense)             (None, 6)                 6150      \n",
            "=================================================================\n",
            "Total params: 23,178,310\n",
            "Trainable params: 23,178,310\n",
            "Non-trainable params: 0\n",
            "_________________________________________________________________\n"
          ],
          "name": "stdout"
        }
      ]
    },
    {
      "cell_type": "code",
      "metadata": {
        "id": "NgtmhfuodFkR",
        "colab_type": "code",
        "outputId": "43b75fc7-648b-486b-87b9-cc76e2f7ff8c",
        "colab": {
          "base_uri": "https://localhost:8080/",
          "height": 731
        }
      },
      "source": [
        "model_final.fit(train_X,keras.utils.to_categorical(y),batch_size = 32,epochs = 20,validation_split=0.1)\n",
        "# training a pretrained model with no data augmentation......the results are pretty poor"
      ],
      "execution_count": 106,
      "outputs": [
        {
          "output_type": "stream",
          "text": [
            "Train on 178 samples, validate on 20 samples\n",
            "Epoch 1/20\n",
            "178/178 [==============================] - 3s 20ms/step - loss: 9.1123 - acc: 0.2079 - val_loss: 5.7036 - val_acc: 0.3000\n",
            "Epoch 2/20\n",
            "178/178 [==============================] - 1s 3ms/step - loss: 2.3427 - acc: 0.5000 - val_loss: 1.6263 - val_acc: 0.3000\n",
            "Epoch 3/20\n",
            "178/178 [==============================] - 1s 3ms/step - loss: 1.4722 - acc: 0.4944 - val_loss: 1.5360 - val_acc: 0.3000\n",
            "Epoch 4/20\n",
            "178/178 [==============================] - 1s 3ms/step - loss: 1.3707 - acc: 0.5393 - val_loss: 1.3390 - val_acc: 0.3000\n",
            "Epoch 5/20\n",
            "178/178 [==============================] - 1s 3ms/step - loss: 1.3228 - acc: 0.5393 - val_loss: 1.3377 - val_acc: 0.3000\n",
            "Epoch 6/20\n",
            "178/178 [==============================] - 1s 3ms/step - loss: 1.3390 - acc: 0.5169 - val_loss: 1.3776 - val_acc: 0.3000\n",
            "Epoch 7/20\n",
            "178/178 [==============================] - 1s 3ms/step - loss: 1.2286 - acc: 0.5449 - val_loss: 1.3256 - val_acc: 0.3500\n",
            "Epoch 8/20\n",
            "178/178 [==============================] - 1s 3ms/step - loss: 1.2778 - acc: 0.5281 - val_loss: 1.2223 - val_acc: 0.5000\n",
            "Epoch 9/20\n",
            "178/178 [==============================] - 1s 3ms/step - loss: 1.2504 - acc: 0.5562 - val_loss: 1.2468 - val_acc: 0.3000\n",
            "Epoch 10/20\n",
            "178/178 [==============================] - 1s 3ms/step - loss: 1.1872 - acc: 0.5730 - val_loss: 1.2221 - val_acc: 0.3500\n",
            "Epoch 11/20\n",
            "178/178 [==============================] - 1s 3ms/step - loss: 1.1608 - acc: 0.5506 - val_loss: 1.3040 - val_acc: 0.3000\n",
            "Epoch 12/20\n",
            "178/178 [==============================] - 1s 3ms/step - loss: 1.1083 - acc: 0.5787 - val_loss: 1.2500 - val_acc: 0.4500\n",
            "Epoch 13/20\n",
            "178/178 [==============================] - 1s 3ms/step - loss: 1.0847 - acc: 0.5674 - val_loss: 1.2527 - val_acc: 0.4500\n",
            "Epoch 14/20\n",
            "178/178 [==============================] - 1s 3ms/step - loss: 1.0436 - acc: 0.5787 - val_loss: 1.2807 - val_acc: 0.5000\n",
            "Epoch 15/20\n",
            "178/178 [==============================] - 1s 3ms/step - loss: 1.0412 - acc: 0.5899 - val_loss: 1.2088 - val_acc: 0.5500\n",
            "Epoch 16/20\n",
            "178/178 [==============================] - 1s 3ms/step - loss: 0.9646 - acc: 0.6236 - val_loss: 1.2743 - val_acc: 0.5000\n",
            "Epoch 17/20\n",
            "178/178 [==============================] - 1s 3ms/step - loss: 0.9609 - acc: 0.6124 - val_loss: 1.1903 - val_acc: 0.5000\n",
            "Epoch 18/20\n",
            "178/178 [==============================] - 1s 3ms/step - loss: 0.9189 - acc: 0.6517 - val_loss: 1.1509 - val_acc: 0.5500\n",
            "Epoch 19/20\n",
            "178/178 [==============================] - 1s 3ms/step - loss: 0.8588 - acc: 0.6517 - val_loss: 1.2328 - val_acc: 0.5000\n",
            "Epoch 20/20\n",
            "178/178 [==============================] - 1s 3ms/step - loss: 0.8166 - acc: 0.6742 - val_loss: 1.0563 - val_acc: 0.6500\n"
          ],
          "name": "stdout"
        },
        {
          "output_type": "execute_result",
          "data": {
            "text/plain": [
              "<keras.callbacks.History at 0x7f6e5c4ce748>"
            ]
          },
          "metadata": {
            "tags": []
          },
          "execution_count": 106
        }
      ]
    },
    {
      "cell_type": "code",
      "metadata": {
        "id": "UXRuaWjUdFfj",
        "colab_type": "code",
        "outputId": "9231f80e-2a36-453f-96a8-390ac931c8b9",
        "colab": {
          "base_uri": "https://localhost:8080/",
          "height": 286
        }
      },
      "source": [
        "plt.imshow(train_X[16])"
      ],
      "execution_count": 80,
      "outputs": [
        {
          "output_type": "execute_result",
          "data": {
            "text/plain": [
              "<matplotlib.image.AxesImage at 0x7f6e5e668978>"
            ]
          },
          "metadata": {
            "tags": []
          },
          "execution_count": 80
        },
        {
          "output_type": "display_data",
          "data": {
            "image/png": "[encoded data removed]",
            "text/plain": [
              "<Figure size 432x288 with 1 Axes>"
            ]
          },
          "metadata": {
            "tags": []
          }
        }
      ]
    },
    {
      "cell_type": "code",
      "metadata": {
        "id": "NXeKxGNu40x3",
        "colab_type": "code",
        "colab": {}
      },
      "source": [
        "x_train,y_train = train_X[0:120],keras.utils.to_categorical(y[0:120])"
      ],
      "execution_count": 0,
      "outputs": []
    },
    {
      "cell_type": "code",
      "metadata": {
        "id": "NQRTxkQXdFea",
        "colab_type": "code",
        "colab": {}
      },
      "source": [
        "\n",
        "datagen = keras.preprocessing.image.ImageDataGenerator(\n",
        "    featurewise_center=True,\n",
        "    featurewise_std_normalization=True,\n",
        "    rotation_range=20,\n",
        "    width_shift_range=0.2,\n",
        "    height_shift_range=0.2,\n",
        "    rescale=1/25,\n",
        "    horizontal_flip=True\n",
        ")\n",
        "\n",
        "#datagen = keras.preprocessing.image.ImageDataGenerator()\n",
        "'''datagen = keras.preprocessing.image.ImageDataGenerator(\n",
        "    rotation_range=40,\n",
        "    width_shift_range=0.2,\n",
        "    height_shift_range=0.2,\n",
        "    rescale=1/255,\n",
        "    shear_range=0.2,\n",
        "    zoom_range=0.2,\n",
        "    horizontal_flip=True,\n",
        "    fill_mode='nearest',\n",
        "    validation_split=0.2\n",
        ")\n",
        "'''\n",
        "# compute quantities required for featurewise normalization\n",
        "# (std, mean, and principal components if ZCA whitening is applied)\n",
        "datagen.fit(x_train)\n",
        "#keras.optimizers.SGD(lr=0.0001, momentum=0.9)"
      ],
      "execution_count": 0,
      "outputs": []
    },
    {
      "cell_type": "code",
      "metadata": {
        "id": "WcOe3mW_dFb6",
        "colab_type": "code",
        "outputId": "1abec62e-daff-4722-f22d-921375e5966d",
        "colab": {
          "base_uri": "https://localhost:8080/",
          "height": 1000
        }
      },
      "source": [
        "model_final.compile(loss = \"categorical_crossentropy\", optimizer =keras.optimizers.SGD(lr=0.0001, momentum=0.9),metrics=[\"accuracy\"])\n",
        "model_final.fit_generator(datagen.flow(x_train, y_train, batch_size=32),\n",
        "                    steps_per_epoch=len(x_train) / 32, epochs=50)\n",
        "#this is training by augmentation of the train dataset"
      ],
      "execution_count": 109,
      "outputs": [
        {
          "output_type": "stream",
          "text": [
            "Epoch 1/50\n",
            "4/3 [================================] - 3s 727ms/step - loss: 1.3486 - acc: 0.5796\n",
            "Epoch 2/50\n",
            "4/3 [================================] - 0s 93ms/step - loss: 1.3187 - acc: 0.6133\n",
            "Epoch 3/50\n",
            "4/3 [================================] - 0s 94ms/step - loss: 1.3090 - acc: 0.6271\n",
            "Epoch 4/50\n",
            "4/3 [================================] - 0s 95ms/step - loss: 1.2728 - acc: 0.6350\n",
            "Epoch 5/50\n",
            "4/3 [================================] - 0s 95ms/step - loss: 1.2554 - acc: 0.6288\n",
            "Epoch 6/50\n",
            "4/3 [================================] - 0s 95ms/step - loss: 1.2641 - acc: 0.6350\n",
            "Epoch 7/50\n",
            "4/3 [================================] - 0s 94ms/step - loss: 1.2030 - acc: 0.6350\n",
            "Epoch 8/50\n",
            "4/3 [================================] - 0s 94ms/step - loss: 1.2451 - acc: 0.6225\n",
            "Epoch 9/50\n",
            "4/3 [================================] - 0s 96ms/step - loss: 1.2540 - acc: 0.6350\n",
            "Epoch 10/50\n",
            "4/3 [================================] - 0s 95ms/step - loss: 1.2282 - acc: 0.6288\n",
            "Epoch 11/50\n",
            "4/3 [================================] - 0s 95ms/step - loss: 1.1999 - acc: 0.6350\n",
            "Epoch 12/50\n",
            "4/3 [================================] - 0s 95ms/step - loss: 1.2414 - acc: 0.6350\n",
            "Epoch 13/50\n",
            "4/3 [================================] - 0s 95ms/step - loss: 1.2186 - acc: 0.6288\n",
            "Epoch 14/50\n",
            "4/3 [================================] - 0s 95ms/step - loss: 1.2160 - acc: 0.6267\n",
            "Epoch 15/50\n",
            "4/3 [================================] - 0s 95ms/step - loss: 1.2122 - acc: 0.6350\n",
            "Epoch 16/50\n",
            "4/3 [================================] - 0s 95ms/step - loss: 1.2059 - acc: 0.6392\n",
            "Epoch 17/50\n",
            "4/3 [================================] - 0s 95ms/step - loss: 1.2673 - acc: 0.6208\n",
            "Epoch 18/50\n",
            "4/3 [================================] - 0s 96ms/step - loss: 1.2259 - acc: 0.6350\n",
            "Epoch 19/50\n",
            "4/3 [================================] - 0s 96ms/step - loss: 1.2058 - acc: 0.6350\n",
            "Epoch 20/50\n",
            "4/3 [================================] - 0s 96ms/step - loss: 1.2119 - acc: 0.6329\n",
            "Epoch 21/50\n",
            "4/3 [================================] - 0s 95ms/step - loss: 1.2131 - acc: 0.6350\n",
            "Epoch 22/50\n",
            "4/3 [================================] - 0s 96ms/step - loss: 1.2311 - acc: 0.6308\n",
            "Epoch 23/50\n",
            "4/3 [================================] - 0s 96ms/step - loss: 1.2053 - acc: 0.6308\n",
            "Epoch 24/50\n",
            "4/3 [================================] - 0s 95ms/step - loss: 1.1876 - acc: 0.6329\n",
            "Epoch 25/50\n",
            "4/3 [================================] - 0s 98ms/step - loss: 1.2009 - acc: 0.6308\n",
            "Epoch 26/50\n",
            "4/3 [================================] - 0s 96ms/step - loss: 1.2299 - acc: 0.6267\n",
            "Epoch 27/50\n",
            "4/3 [================================] - 0s 96ms/step - loss: 1.2001 - acc: 0.6392\n",
            "Epoch 28/50\n",
            "4/3 [================================] - 0s 96ms/step - loss: 1.1856 - acc: 0.6308\n",
            "Epoch 29/50\n",
            "4/3 [================================] - 0s 95ms/step - loss: 1.2137 - acc: 0.6250\n",
            "Epoch 30/50\n",
            "4/3 [================================] - 0s 97ms/step - loss: 1.2571 - acc: 0.6350\n",
            "Epoch 31/50\n",
            "4/3 [================================] - 0s 97ms/step - loss: 1.2632 - acc: 0.6308\n",
            "Epoch 32/50\n",
            "4/3 [================================] - 0s 96ms/step - loss: 1.1968 - acc: 0.6392\n",
            "Epoch 33/50\n",
            "4/3 [================================] - 0s 97ms/step - loss: 1.2245 - acc: 0.6308\n",
            "Epoch 34/50\n",
            "4/3 [================================] - 0s 97ms/step - loss: 1.2069 - acc: 0.6350\n",
            "Epoch 35/50\n",
            "4/3 [================================] - 0s 96ms/step - loss: 1.2155 - acc: 0.6288\n",
            "Epoch 36/50\n",
            "4/3 [================================] - 0s 97ms/step - loss: 1.2248 - acc: 0.6350\n",
            "Epoch 37/50\n",
            "4/3 [================================] - 0s 98ms/step - loss: 1.2250 - acc: 0.6350\n",
            "Epoch 38/50\n",
            "4/3 [================================] - 0s 96ms/step - loss: 1.2318 - acc: 0.6371\n",
            "Epoch 39/50\n",
            "4/3 [================================] - 0s 97ms/step - loss: 1.2215 - acc: 0.6329\n",
            "Epoch 40/50\n",
            "4/3 [================================] - 0s 97ms/step - loss: 1.2429 - acc: 0.6308\n",
            "Epoch 41/50\n",
            "4/3 [================================] - 0s 97ms/step - loss: 1.2199 - acc: 0.6329\n",
            "Epoch 42/50\n",
            "4/3 [================================] - 0s 98ms/step - loss: 1.1749 - acc: 0.6350\n",
            "Epoch 43/50\n",
            "4/3 [================================] - 0s 96ms/step - loss: 1.2314 - acc: 0.6308\n",
            "Epoch 44/50\n",
            "4/3 [================================] - 0s 96ms/step - loss: 1.2024 - acc: 0.6329\n",
            "Epoch 45/50\n",
            "4/3 [================================] - 0s 96ms/step - loss: 1.1834 - acc: 0.6350\n",
            "Epoch 46/50\n",
            "4/3 [================================] - 0s 97ms/step - loss: 1.2019 - acc: 0.6350\n",
            "Epoch 47/50\n",
            "4/3 [================================] - 0s 96ms/step - loss: 1.2049 - acc: 0.6350\n",
            "Epoch 48/50\n",
            "4/3 [================================] - 0s 97ms/step - loss: 1.2108 - acc: 0.6392\n",
            "Epoch 49/50\n",
            "4/3 [================================] - 0s 96ms/step - loss: 1.2063 - acc: 0.6308\n",
            "Epoch 50/50\n",
            "4/3 [================================] - 0s 96ms/step - loss: 1.1945 - acc: 0.6329\n"
          ],
          "name": "stdout"
        },
        {
          "output_type": "execute_result",
          "data": {
            "text/plain": [
              "<keras.callbacks.History at 0x7f6e5c4ce828>"
            ]
          },
          "metadata": {
            "tags": []
          },
          "execution_count": 109
        }
      ]
    },
    {
      "cell_type": "code",
      "metadata": {
        "id": "koq4nRRBdFWv",
        "colab_type": "code",
        "outputId": "d89315c4-a72c-427a-a18e-592b0ea8118e",
        "colab": {
          "base_uri": "https://localhost:8080/",
          "height": 51
        }
      },
      "source": [
        "model_final.evaluate(train_X[0:120],keras.utils.to_categorical(y[0:120]))\n",
        "#evaluating train accuracy......it comes about 69% with data augmentation"
      ],
      "execution_count": 113,
      "outputs": [
        {
          "output_type": "stream",
          "text": [
            "120/120 [==============================] - 0s 1ms/step\n"
          ],
          "name": "stdout"
        },
        {
          "output_type": "execute_result",
          "data": {
            "text/plain": [
              "[0.7203135093053182, 0.6916666686534881]"
            ]
          },
          "metadata": {
            "tags": []
          },
          "execution_count": 113
        }
      ]
    },
    {
      "cell_type": "code",
      "metadata": {
        "id": "ezEvlld-7d9T",
        "colab_type": "code",
        "colab": {
          "base_uri": "https://localhost:8080/",
          "height": 51
        },
        "outputId": "9ca1da54-3b2e-452d-d8d2-d79b1114aab4"
      },
      "source": [
        "model_final.evaluate(train_X[120:],keras.utils.to_categorical(y[120:]))\n",
        "# test acc on 78 samples"
      ],
      "execution_count": 112,
      "outputs": [
        {
          "output_type": "stream",
          "text": [
            "78/78 [==============================] - 0s 1ms/step\n"
          ],
          "name": "stdout"
        },
        {
          "output_type": "execute_result",
          "data": {
            "text/plain": [
              "[0.9323598452103443, 0.5897435905077518]"
            ]
          },
          "metadata": {
            "tags": []
          },
          "execution_count": 112
        }
      ]
    },
    {
      "cell_type": "code",
      "metadata": {
        "id": "YnEwHGzdH4bX",
        "colab_type": "code",
        "colab": {}
      },
      "source": [
        ""
      ],
      "execution_count": 0,
      "outputs": []
    }
  ]
}